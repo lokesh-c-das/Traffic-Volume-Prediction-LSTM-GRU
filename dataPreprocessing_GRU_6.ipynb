{
 "cells": [
  {
   "cell_type": "code",
   "execution_count": 39,
   "id": "8bac47f0",
   "metadata": {},
   "outputs": [],
   "source": [
    "# Import all necessary libraries.\n",
    "import numpy as np\n",
    "import pandas as pd\n",
    "from sklearn  import preprocessing\n",
    "from sklearn.preprocessing import MinMaxScaler\n",
    "import matplotlib.pyplot as plt"
   ]
  },
  {
   "cell_type": "code",
   "execution_count": 40,
   "id": "fedddc82",
   "metadata": {},
   "outputs": [],
   "source": [
    "# Set seeds for reproduciability\n",
    "np.random.seed(0)"
   ]
  },
  {
   "cell_type": "markdown",
   "id": "27841a86",
   "metadata": {},
   "source": [
    "# Read dataset"
   ]
  },
  {
   "cell_type": "code",
   "execution_count": 41,
   "id": "26e2f95c",
   "metadata": {},
   "outputs": [],
   "source": [
    "# Import Dataset\n",
    "\n",
    "traffic_data = pd.read_csv(\"dataset/Metro_Interstate_Traffic_Volume.csv\", parse_dates=['date_time'], index_col='date_time')"
   ]
  },
  {
   "cell_type": "code",
   "execution_count": 42,
   "id": "4475762a",
   "metadata": {},
   "outputs": [
    {
     "data": {
      "text/html": [
       "<div>\n",
       "<style scoped>\n",
       "    .dataframe tbody tr th:only-of-type {\n",
       "        vertical-align: middle;\n",
       "    }\n",
       "\n",
       "    .dataframe tbody tr th {\n",
       "        vertical-align: top;\n",
       "    }\n",
       "\n",
       "    .dataframe thead th {\n",
       "        text-align: right;\n",
       "    }\n",
       "</style>\n",
       "<table border=\"1\" class=\"dataframe\">\n",
       "  <thead>\n",
       "    <tr style=\"text-align: right;\">\n",
       "      <th></th>\n",
       "      <th>holiday</th>\n",
       "      <th>temp</th>\n",
       "      <th>rain_1h</th>\n",
       "      <th>snow_1h</th>\n",
       "      <th>clouds_all</th>\n",
       "      <th>weather_main</th>\n",
       "      <th>weather_description</th>\n",
       "      <th>traffic_volume</th>\n",
       "    </tr>\n",
       "    <tr>\n",
       "      <th>date_time</th>\n",
       "      <th></th>\n",
       "      <th></th>\n",
       "      <th></th>\n",
       "      <th></th>\n",
       "      <th></th>\n",
       "      <th></th>\n",
       "      <th></th>\n",
       "      <th></th>\n",
       "    </tr>\n",
       "  </thead>\n",
       "  <tbody>\n",
       "    <tr>\n",
       "      <th>2012-10-02 09:00:00</th>\n",
       "      <td>None</td>\n",
       "      <td>288.28</td>\n",
       "      <td>0.0</td>\n",
       "      <td>0.0</td>\n",
       "      <td>40</td>\n",
       "      <td>Clouds</td>\n",
       "      <td>scattered clouds</td>\n",
       "      <td>5545</td>\n",
       "    </tr>\n",
       "    <tr>\n",
       "      <th>2012-10-02 10:00:00</th>\n",
       "      <td>None</td>\n",
       "      <td>289.36</td>\n",
       "      <td>0.0</td>\n",
       "      <td>0.0</td>\n",
       "      <td>75</td>\n",
       "      <td>Clouds</td>\n",
       "      <td>broken clouds</td>\n",
       "      <td>4516</td>\n",
       "    </tr>\n",
       "    <tr>\n",
       "      <th>2012-10-02 11:00:00</th>\n",
       "      <td>None</td>\n",
       "      <td>289.58</td>\n",
       "      <td>0.0</td>\n",
       "      <td>0.0</td>\n",
       "      <td>90</td>\n",
       "      <td>Clouds</td>\n",
       "      <td>overcast clouds</td>\n",
       "      <td>4767</td>\n",
       "    </tr>\n",
       "    <tr>\n",
       "      <th>2012-10-02 12:00:00</th>\n",
       "      <td>None</td>\n",
       "      <td>290.13</td>\n",
       "      <td>0.0</td>\n",
       "      <td>0.0</td>\n",
       "      <td>90</td>\n",
       "      <td>Clouds</td>\n",
       "      <td>overcast clouds</td>\n",
       "      <td>5026</td>\n",
       "    </tr>\n",
       "    <tr>\n",
       "      <th>2012-10-02 13:00:00</th>\n",
       "      <td>None</td>\n",
       "      <td>291.14</td>\n",
       "      <td>0.0</td>\n",
       "      <td>0.0</td>\n",
       "      <td>75</td>\n",
       "      <td>Clouds</td>\n",
       "      <td>broken clouds</td>\n",
       "      <td>4918</td>\n",
       "    </tr>\n",
       "  </tbody>\n",
       "</table>\n",
       "</div>"
      ],
      "text/plain": [
       "                    holiday    temp  rain_1h  snow_1h  clouds_all  \\\n",
       "date_time                                                           \n",
       "2012-10-02 09:00:00    None  288.28      0.0      0.0          40   \n",
       "2012-10-02 10:00:00    None  289.36      0.0      0.0          75   \n",
       "2012-10-02 11:00:00    None  289.58      0.0      0.0          90   \n",
       "2012-10-02 12:00:00    None  290.13      0.0      0.0          90   \n",
       "2012-10-02 13:00:00    None  291.14      0.0      0.0          75   \n",
       "\n",
       "                    weather_main weather_description  traffic_volume  \n",
       "date_time                                                             \n",
       "2012-10-02 09:00:00       Clouds    scattered clouds            5545  \n",
       "2012-10-02 10:00:00       Clouds       broken clouds            4516  \n",
       "2012-10-02 11:00:00       Clouds     overcast clouds            4767  \n",
       "2012-10-02 12:00:00       Clouds     overcast clouds            5026  \n",
       "2012-10-02 13:00:00       Clouds       broken clouds            4918  "
      ]
     },
     "execution_count": 42,
     "metadata": {},
     "output_type": "execute_result"
    }
   ],
   "source": [
    "traffic_data.head()"
   ]
  },
  {
   "cell_type": "code",
   "execution_count": 43,
   "id": "4bec85fc",
   "metadata": {},
   "outputs": [
    {
     "data": {
      "text/plain": [
       "holiday                0\n",
       "temp                   0\n",
       "rain_1h                0\n",
       "snow_1h                0\n",
       "clouds_all             0\n",
       "weather_main           0\n",
       "weather_description    0\n",
       "traffic_volume         0\n",
       "dtype: int64"
      ]
     },
     "execution_count": 43,
     "metadata": {},
     "output_type": "execute_result"
    }
   ],
   "source": [
    "# Checking for any missing or empty value\n",
    "traffic_data.isna().sum()"
   ]
  },
  {
   "cell_type": "markdown",
   "id": "227a4161",
   "metadata": {},
   "source": [
    "# convert categorical to nominal data"
   ]
  },
  {
   "cell_type": "code",
   "execution_count": 44,
   "id": "1fe7954f",
   "metadata": {},
   "outputs": [],
   "source": [
    "# Convert categorical value to numerical values. For holiday attribute, value will be within by 0 and 1. If it is holiday then 1 otherwise 0\n",
    "label_encoder = preprocessing.LabelEncoder()\n",
    "traffic_data['holiday'] = np.where(traffic_data.holiday=='None',0,1).astype('int64')\n",
    "traffic_data['weather_main'] = label_encoder.fit_transform(traffic_data['weather_main'])\n",
    "traffic_data['weather_description'] = label_encoder.fit_transform(traffic_data['weather_description'])"
   ]
  },
  {
   "cell_type": "code",
   "execution_count": 45,
   "id": "4493e080",
   "metadata": {},
   "outputs": [
    {
     "data": {
      "text/html": [
       "<div>\n",
       "<style scoped>\n",
       "    .dataframe tbody tr th:only-of-type {\n",
       "        vertical-align: middle;\n",
       "    }\n",
       "\n",
       "    .dataframe tbody tr th {\n",
       "        vertical-align: top;\n",
       "    }\n",
       "\n",
       "    .dataframe thead th {\n",
       "        text-align: right;\n",
       "    }\n",
       "</style>\n",
       "<table border=\"1\" class=\"dataframe\">\n",
       "  <thead>\n",
       "    <tr style=\"text-align: right;\">\n",
       "      <th></th>\n",
       "      <th>holiday</th>\n",
       "      <th>temp</th>\n",
       "      <th>rain_1h</th>\n",
       "      <th>snow_1h</th>\n",
       "      <th>clouds_all</th>\n",
       "      <th>weather_main</th>\n",
       "      <th>weather_description</th>\n",
       "      <th>traffic_volume</th>\n",
       "    </tr>\n",
       "  </thead>\n",
       "  <tbody>\n",
       "    <tr>\n",
       "      <th>count</th>\n",
       "      <td>48204.000000</td>\n",
       "      <td>48204.000000</td>\n",
       "      <td>48204.000000</td>\n",
       "      <td>48204.000000</td>\n",
       "      <td>48204.000000</td>\n",
       "      <td>48204.000000</td>\n",
       "      <td>48204.000000</td>\n",
       "      <td>48204.000000</td>\n",
       "    </tr>\n",
       "    <tr>\n",
       "      <th>mean</th>\n",
       "      <td>0.001265</td>\n",
       "      <td>281.205870</td>\n",
       "      <td>0.334264</td>\n",
       "      <td>0.000222</td>\n",
       "      <td>49.362231</td>\n",
       "      <td>2.578375</td>\n",
       "      <td>16.540536</td>\n",
       "      <td>3259.818355</td>\n",
       "    </tr>\n",
       "    <tr>\n",
       "      <th>std</th>\n",
       "      <td>0.035551</td>\n",
       "      <td>13.338232</td>\n",
       "      <td>44.789133</td>\n",
       "      <td>0.008168</td>\n",
       "      <td>39.015750</td>\n",
       "      <td>2.784224</td>\n",
       "      <td>8.970108</td>\n",
       "      <td>1986.860670</td>\n",
       "    </tr>\n",
       "    <tr>\n",
       "      <th>min</th>\n",
       "      <td>0.000000</td>\n",
       "      <td>0.000000</td>\n",
       "      <td>0.000000</td>\n",
       "      <td>0.000000</td>\n",
       "      <td>0.000000</td>\n",
       "      <td>0.000000</td>\n",
       "      <td>0.000000</td>\n",
       "      <td>0.000000</td>\n",
       "    </tr>\n",
       "    <tr>\n",
       "      <th>25%</th>\n",
       "      <td>0.000000</td>\n",
       "      <td>272.160000</td>\n",
       "      <td>0.000000</td>\n",
       "      <td>0.000000</td>\n",
       "      <td>1.000000</td>\n",
       "      <td>0.000000</td>\n",
       "      <td>10.000000</td>\n",
       "      <td>1193.000000</td>\n",
       "    </tr>\n",
       "    <tr>\n",
       "      <th>50%</th>\n",
       "      <td>0.000000</td>\n",
       "      <td>282.450000</td>\n",
       "      <td>0.000000</td>\n",
       "      <td>0.000000</td>\n",
       "      <td>64.000000</td>\n",
       "      <td>1.000000</td>\n",
       "      <td>17.000000</td>\n",
       "      <td>3380.000000</td>\n",
       "    </tr>\n",
       "    <tr>\n",
       "      <th>75%</th>\n",
       "      <td>0.000000</td>\n",
       "      <td>291.806000</td>\n",
       "      <td>0.000000</td>\n",
       "      <td>0.000000</td>\n",
       "      <td>90.000000</td>\n",
       "      <td>5.000000</td>\n",
       "      <td>27.000000</td>\n",
       "      <td>4933.000000</td>\n",
       "    </tr>\n",
       "    <tr>\n",
       "      <th>max</th>\n",
       "      <td>1.000000</td>\n",
       "      <td>310.070000</td>\n",
       "      <td>9831.300000</td>\n",
       "      <td>0.510000</td>\n",
       "      <td>100.000000</td>\n",
       "      <td>10.000000</td>\n",
       "      <td>37.000000</td>\n",
       "      <td>7280.000000</td>\n",
       "    </tr>\n",
       "  </tbody>\n",
       "</table>\n",
       "</div>"
      ],
      "text/plain": [
       "            holiday          temp       rain_1h       snow_1h    clouds_all  \\\n",
       "count  48204.000000  48204.000000  48204.000000  48204.000000  48204.000000   \n",
       "mean       0.001265    281.205870      0.334264      0.000222     49.362231   \n",
       "std        0.035551     13.338232     44.789133      0.008168     39.015750   \n",
       "min        0.000000      0.000000      0.000000      0.000000      0.000000   \n",
       "25%        0.000000    272.160000      0.000000      0.000000      1.000000   \n",
       "50%        0.000000    282.450000      0.000000      0.000000     64.000000   \n",
       "75%        0.000000    291.806000      0.000000      0.000000     90.000000   \n",
       "max        1.000000    310.070000   9831.300000      0.510000    100.000000   \n",
       "\n",
       "       weather_main  weather_description  traffic_volume  \n",
       "count  48204.000000         48204.000000    48204.000000  \n",
       "mean       2.578375            16.540536     3259.818355  \n",
       "std        2.784224             8.970108     1986.860670  \n",
       "min        0.000000             0.000000        0.000000  \n",
       "25%        0.000000            10.000000     1193.000000  \n",
       "50%        1.000000            17.000000     3380.000000  \n",
       "75%        5.000000            27.000000     4933.000000  \n",
       "max       10.000000            37.000000     7280.000000  "
      ]
     },
     "execution_count": 45,
     "metadata": {},
     "output_type": "execute_result"
    }
   ],
   "source": [
    "traffic_data.describe()"
   ]
  },
  {
   "cell_type": "code",
   "execution_count": 46,
   "id": "ddf67ce1",
   "metadata": {},
   "outputs": [
    {
     "data": {
      "text/plain": [
       "<AxesSubplot:xlabel='date_time'>"
      ]
     },
     "execution_count": 46,
     "metadata": {},
     "output_type": "execute_result"
    },
    {
     "data": {
      "image/png": "[encoded data removed]",
      "text/plain": [
       "<Figure size 640x480 with 1 Axes>"
      ]
     },
     "metadata": {},
     "output_type": "display_data"
    }
   ],
   "source": [
    "#traffic_data['temp'].plot()\n",
    "traffic_data['rain_1h'].plot()"
   ]
  },
  {
   "cell_type": "code",
   "execution_count": 47,
   "id": "7fd6f7f4",
   "metadata": {},
   "outputs": [
    {
     "data": {
      "text/plain": [
       "<AxesSubplot:xlabel='date_time'>"
      ]
     },
     "execution_count": 47,
     "metadata": {},
     "output_type": "execute_result"
    },
    {
     "data": {
      "image/png": "[encoded data removed]",
      "text/plain": [
       "<Figure size 640x480 with 1 Axes>"
      ]
     },
     "metadata": {},
     "output_type": "display_data"
    }
   ],
   "source": [
    "traffic_data['temp'].plot()"
   ]
  },
  {
   "cell_type": "code",
   "execution_count": 48,
   "id": "9cf54f98",
   "metadata": {},
   "outputs": [
    {
     "name": "stdout",
     "output_type": "stream",
     "text": [
      "holiday                   0.000\n",
      "temp                     19.646\n",
      "rain_1h                   0.000\n",
      "snow_1h                   0.000\n",
      "clouds_all               89.000\n",
      "weather_main              5.000\n",
      "weather_description      17.000\n",
      "traffic_volume         3740.000\n",
      "dtype: float64\n"
     ]
    }
   ],
   "source": [
    "Q1 = traffic_data.quantile(0.25)\n",
    "Q3 = traffic_data.quantile(0.75)\n",
    "IQR = Q3 - Q1\n",
    "print(IQR)"
   ]
  },
  {
   "cell_type": "code",
   "execution_count": 49,
   "id": "1bbba1bd",
   "metadata": {},
   "outputs": [],
   "source": [
    "traffic_data=traffic_data[~((traffic_data['temp'] <(Q1['temp']-1.5*IQR['temp'])) | (traffic_data['temp'] >(Q1['temp']+1.5*IQR['temp'])))]\n",
    "#traffic_data=traffic_data[~((traffic_data['rain_1h'] <(Q1['rain_1h']-1.5*IQR['rain_1h'])) | (traffic_data['rain_1h'] >(Q1['rain_1h']+1.5*IQR['rain_1h'])))]"
   ]
  },
  {
   "cell_type": "markdown",
   "id": "cfcc92f4",
   "metadata": {},
   "source": [
    "# Prepare training and testing data"
   ]
  },
  {
   "cell_type": "code",
   "execution_count": 50,
   "id": "45783ad3",
   "metadata": {},
   "outputs": [
    {
     "data": {
      "text/plain": [
       "<AxesSubplot:xlabel='date_time'>"
      ]
     },
     "execution_count": 50,
     "metadata": {},
     "output_type": "execute_result"
    },
    {
     "data": {
      "image/png": "[encoded data removed]",
      "text/plain": [
       "<Figure size 640x480 with 1 Axes>"
      ]
     },
     "metadata": {},
     "output_type": "display_data"
    }
   ],
   "source": [
    "# ploting traffic data to see to see any data imbalance\n",
    "traffic_data['temp'].plot()"
   ]
  },
  {
   "cell_type": "code",
   "execution_count": 51,
   "id": "b0fbabbc",
   "metadata": {},
   "outputs": [
    {
     "data": {
      "text/plain": [
       "<AxesSubplot:xlabel='date_time'>"
      ]
     },
     "execution_count": 51,
     "metadata": {},
     "output_type": "execute_result"
    },
    {
     "data": {
      "image/png": "[encoded data removed]",
      "text/plain": [
       "<Figure size 640x480 with 1 Axes>"
      ]
     },
     "metadata": {},
     "output_type": "display_data"
    }
   ],
   "source": [
    "traffic_data['rain_1h'].plot()"
   ]
  },
  {
   "cell_type": "code",
   "execution_count": 52,
   "id": "51981809",
   "metadata": {},
   "outputs": [
    {
     "data": {
      "text/html": [
       "<div>\n",
       "<style scoped>\n",
       "    .dataframe tbody tr th:only-of-type {\n",
       "        vertical-align: middle;\n",
       "    }\n",
       "\n",
       "    .dataframe tbody tr th {\n",
       "        vertical-align: top;\n",
       "    }\n",
       "\n",
       "    .dataframe thead th {\n",
       "        text-align: right;\n",
       "    }\n",
       "</style>\n",
       "<table border=\"1\" class=\"dataframe\">\n",
       "  <thead>\n",
       "    <tr style=\"text-align: right;\">\n",
       "      <th></th>\n",
       "      <th>holiday</th>\n",
       "      <th>temp</th>\n",
       "      <th>rain_1h</th>\n",
       "      <th>snow_1h</th>\n",
       "      <th>clouds_all</th>\n",
       "      <th>weather_main</th>\n",
       "      <th>weather_description</th>\n",
       "      <th>traffic_volume</th>\n",
       "    </tr>\n",
       "    <tr>\n",
       "      <th>date_time</th>\n",
       "      <th></th>\n",
       "      <th></th>\n",
       "      <th></th>\n",
       "      <th></th>\n",
       "      <th></th>\n",
       "      <th></th>\n",
       "      <th></th>\n",
       "      <th></th>\n",
       "    </tr>\n",
       "  </thead>\n",
       "  <tbody>\n",
       "    <tr>\n",
       "      <th>2012-10-02 09:00:00</th>\n",
       "      <td>0</td>\n",
       "      <td>288.28</td>\n",
       "      <td>0.0</td>\n",
       "      <td>0.0</td>\n",
       "      <td>40</td>\n",
       "      <td>1</td>\n",
       "      <td>24</td>\n",
       "      <td>5545</td>\n",
       "    </tr>\n",
       "    <tr>\n",
       "      <th>2012-10-02 10:00:00</th>\n",
       "      <td>0</td>\n",
       "      <td>289.36</td>\n",
       "      <td>0.0</td>\n",
       "      <td>0.0</td>\n",
       "      <td>75</td>\n",
       "      <td>1</td>\n",
       "      <td>2</td>\n",
       "      <td>4516</td>\n",
       "    </tr>\n",
       "    <tr>\n",
       "      <th>2012-10-02 11:00:00</th>\n",
       "      <td>0</td>\n",
       "      <td>289.58</td>\n",
       "      <td>0.0</td>\n",
       "      <td>0.0</td>\n",
       "      <td>90</td>\n",
       "      <td>1</td>\n",
       "      <td>19</td>\n",
       "      <td>4767</td>\n",
       "    </tr>\n",
       "    <tr>\n",
       "      <th>2012-10-02 12:00:00</th>\n",
       "      <td>0</td>\n",
       "      <td>290.13</td>\n",
       "      <td>0.0</td>\n",
       "      <td>0.0</td>\n",
       "      <td>90</td>\n",
       "      <td>1</td>\n",
       "      <td>19</td>\n",
       "      <td>5026</td>\n",
       "    </tr>\n",
       "    <tr>\n",
       "      <th>2012-10-02 13:00:00</th>\n",
       "      <td>0</td>\n",
       "      <td>291.14</td>\n",
       "      <td>0.0</td>\n",
       "      <td>0.0</td>\n",
       "      <td>75</td>\n",
       "      <td>1</td>\n",
       "      <td>2</td>\n",
       "      <td>4918</td>\n",
       "    </tr>\n",
       "    <tr>\n",
       "      <th>...</th>\n",
       "      <td>...</td>\n",
       "      <td>...</td>\n",
       "      <td>...</td>\n",
       "      <td>...</td>\n",
       "      <td>...</td>\n",
       "      <td>...</td>\n",
       "      <td>...</td>\n",
       "      <td>...</td>\n",
       "    </tr>\n",
       "    <tr>\n",
       "      <th>2018-09-30 19:00:00</th>\n",
       "      <td>0</td>\n",
       "      <td>283.45</td>\n",
       "      <td>0.0</td>\n",
       "      <td>0.0</td>\n",
       "      <td>75</td>\n",
       "      <td>1</td>\n",
       "      <td>2</td>\n",
       "      <td>3543</td>\n",
       "    </tr>\n",
       "    <tr>\n",
       "      <th>2018-09-30 20:00:00</th>\n",
       "      <td>0</td>\n",
       "      <td>282.76</td>\n",
       "      <td>0.0</td>\n",
       "      <td>0.0</td>\n",
       "      <td>90</td>\n",
       "      <td>1</td>\n",
       "      <td>19</td>\n",
       "      <td>2781</td>\n",
       "    </tr>\n",
       "    <tr>\n",
       "      <th>2018-09-30 21:00:00</th>\n",
       "      <td>0</td>\n",
       "      <td>282.73</td>\n",
       "      <td>0.0</td>\n",
       "      <td>0.0</td>\n",
       "      <td>90</td>\n",
       "      <td>10</td>\n",
       "      <td>21</td>\n",
       "      <td>2159</td>\n",
       "    </tr>\n",
       "    <tr>\n",
       "      <th>2018-09-30 22:00:00</th>\n",
       "      <td>0</td>\n",
       "      <td>282.09</td>\n",
       "      <td>0.0</td>\n",
       "      <td>0.0</td>\n",
       "      <td>90</td>\n",
       "      <td>1</td>\n",
       "      <td>19</td>\n",
       "      <td>1450</td>\n",
       "    </tr>\n",
       "    <tr>\n",
       "      <th>2018-09-30 23:00:00</th>\n",
       "      <td>0</td>\n",
       "      <td>282.12</td>\n",
       "      <td>0.0</td>\n",
       "      <td>0.0</td>\n",
       "      <td>90</td>\n",
       "      <td>1</td>\n",
       "      <td>19</td>\n",
       "      <td>954</td>\n",
       "    </tr>\n",
       "  </tbody>\n",
       "</table>\n",
       "<p>47284 rows × 8 columns</p>\n",
       "</div>"
      ],
      "text/plain": [
       "                     holiday    temp  rain_1h  snow_1h  clouds_all  \\\n",
       "date_time                                                            \n",
       "2012-10-02 09:00:00        0  288.28      0.0      0.0          40   \n",
       "2012-10-02 10:00:00        0  289.36      0.0      0.0          75   \n",
       "2012-10-02 11:00:00        0  289.58      0.0      0.0          90   \n",
       "2012-10-02 12:00:00        0  290.13      0.0      0.0          90   \n",
       "2012-10-02 13:00:00        0  291.14      0.0      0.0          75   \n",
       "...                      ...     ...      ...      ...         ...   \n",
       "2018-09-30 19:00:00        0  283.45      0.0      0.0          75   \n",
       "2018-09-30 20:00:00        0  282.76      0.0      0.0          90   \n",
       "2018-09-30 21:00:00        0  282.73      0.0      0.0          90   \n",
       "2018-09-30 22:00:00        0  282.09      0.0      0.0          90   \n",
       "2018-09-30 23:00:00        0  282.12      0.0      0.0          90   \n",
       "\n",
       "                     weather_main  weather_description  traffic_volume  \n",
       "date_time                                                               \n",
       "2012-10-02 09:00:00             1                   24            5545  \n",
       "2012-10-02 10:00:00             1                    2            4516  \n",
       "2012-10-02 11:00:00             1                   19            4767  \n",
       "2012-10-02 12:00:00             1                   19            5026  \n",
       "2012-10-02 13:00:00             1                    2            4918  \n",
       "...                           ...                  ...             ...  \n",
       "2018-09-30 19:00:00             1                    2            3543  \n",
       "2018-09-30 20:00:00             1                   19            2781  \n",
       "2018-09-30 21:00:00            10                   21            2159  \n",
       "2018-09-30 22:00:00             1                   19            1450  \n",
       "2018-09-30 23:00:00             1                   19             954  \n",
       "\n",
       "[47284 rows x 8 columns]"
      ]
     },
     "execution_count": 52,
     "metadata": {},
     "output_type": "execute_result"
    }
   ],
   "source": [
    "\n",
    "traffic_data"
   ]
  },
  {
   "cell_type": "code",
   "execution_count": 53,
   "id": "d79f1112",
   "metadata": {},
   "outputs": [],
   "source": [
    "# Values of the attribute are in different scales. For example, holiday has maximum value 1 and traffic volume let say, 2000. Since these values are totally different range, it might be hurt model learning process. To overcome this issue, we need to do data normalization or standarization.\n",
    "sc = MinMaxScaler()\n",
    "data_set = sc.fit_transform(traffic_data)\n",
    "data_frame = pd.DataFrame(data_set)\n"
   ]
  },
  {
   "cell_type": "code",
   "execution_count": null,
   "id": "56c21344",
   "metadata": {},
   "outputs": [],
   "source": []
  },
  {
   "cell_type": "code",
   "execution_count": 54,
   "id": "4ee4f23a",
   "metadata": {},
   "outputs": [
    {
     "data": {
      "text/plain": [
       "((47260, 24, 8), (47260,))"
      ]
     },
     "execution_count": 54,
     "metadata": {},
     "output_type": "execute_result"
    }
   ],
   "source": [
    "# Make data for the LSTM model. I used past t-hours of data to predict the next 'n' hours data. Here window_size means window size data will be used for predicting next 'n' hours data\n",
    "\n",
    "def df_to_x_y(data, window_size=5):\n",
    "    X = []\n",
    "    y = []\n",
    "    for i in range(len(data)-window_size):\n",
    "        row = [r for r in data[i:i+window_size]]\n",
    "        X.append(row)\n",
    "        label = data[i+window_size][7]\n",
    "        y.append(label)\n",
    "    return np.array(X), np.array(y)\n",
    "\n",
    "X, y = df_to_x_y(data_set,24)\n",
    "X.shape, y.shape"
   ]
  },
  {
   "cell_type": "code",
   "execution_count": 55,
   "id": "5204aedb",
   "metadata": {},
   "outputs": [
    {
     "name": "stdout",
     "output_type": "stream",
     "text": [
      "37808 4726 42534\n"
     ]
    }
   ],
   "source": [
    "# split data into train test and validation datase\n",
    "from cgi import test\n",
    "\n",
    "\n",
    "train_length = int(len(X)*0.8) # 80% trainging\n",
    "test_length = int(len(X)*.10) # 10% testing and rest for validation\n",
    "print(train_length, test_length, (train_length+test_length))\n",
    "X_train, y_train = X[:train_length],y[:train_length]\n",
    "X_val, y_val = X[train_length:(train_length+test_length)], y[train_length:(train_length+test_length)]\n",
    "X_test, y_test = X[(train_length+test_length):], y[(train_length+test_length):]"
   ]
  },
  {
   "cell_type": "code",
   "execution_count": 56,
   "id": "c88e850d",
   "metadata": {},
   "outputs": [
    {
     "data": {
      "text/plain": [
       "(((37808, 24, 8), (37808,)),\n",
       " ((4726, 24, 8), (4726,)),\n",
       " ((4726, 24, 8), (4726,)))"
      ]
     },
     "execution_count": 56,
     "metadata": {},
     "output_type": "execute_result"
    }
   ],
   "source": [
    "(X_train.shape, y_train.shape), (X_test.shape, y_test.shape), (X_val.shape, y_val.shape)\n"
   ]
  },
  {
   "cell_type": "code",
   "execution_count": 70,
   "id": "e0d5a1af",
   "metadata": {},
   "outputs": [],
   "source": [
    "#define model:\n",
    "from tensorflow.keras.models import Sequential\n",
    "from tensorflow.keras.layers import *\n",
    "from tensorflow.keras.callbacks import ModelCheckpoint\n",
    "from tensorflow.keras.losses import MeanSquaredError\n",
    "from tensorflow.keras.metrics import RootMeanSquaredError\n",
    "from tensorflow.keras.optimizers import Adam\n",
    "import tensorflow as tf\n",
    "tf.random.set_seed(0)\n",
    "model = Sequential()\n",
    "model.add(InputLayer((24,8)))\n",
    "model.add(GRU(128, return_sequences=True))\n",
    "model.add(GRU(64, return_sequences=True))\n",
    "model.add(GRU(32, return_sequences=True))\n",
    "model.add(GRU(16))\n",
    "model.add(Dense(1,'linear'))\n"
   ]
  },
  {
   "cell_type": "code",
   "execution_count": 71,
   "id": "24ac1551",
   "metadata": {},
   "outputs": [],
   "source": [
    "cp = ModelCheckpoint('model/', save_best_only=True)\n",
    "model.compile(loss=MeanSquaredError(), optimizer=Adam(learning_rate=0.0001))\n"
   ]
  },
  {
   "cell_type": "code",
   "execution_count": null,
   "id": "8b1cdfed",
   "metadata": {},
   "outputs": [],
   "source": []
  },
  {
   "cell_type": "code",
   "execution_count": 82,
   "id": "552865f5",
   "metadata": {
    "scrolled": false
   },
   "outputs": [
    {
     "name": "stdout",
     "output_type": "stream",
     "text": [
      "Epoch 1/500\n",
      "296/296 [==============================] - ETA: 0s - loss: 0.0079"
     ]
    },
    {
     "name": "stderr",
     "output_type": "stream",
     "text": [
      "WARNING:absl:Found untraced functions such as gru_cell_15_layer_call_fn, gru_cell_15_layer_call_and_return_conditional_losses, gru_cell_16_layer_call_fn, gru_cell_16_layer_call_and_return_conditional_losses, gru_cell_17_layer_call_fn while saving (showing 5 of 8). These functions will not be directly callable after loading.\n"
     ]
    },
    {
     "name": "stdout",
     "output_type": "stream",
     "text": [
      "INFO:tensorflow:Assets written to: model\\assets\n"
     ]
    },
    {
     "name": "stderr",
     "output_type": "stream",
     "text": [
      "INFO:tensorflow:Assets written to: model\\assets\n"
     ]
    },
    {
     "name": "stdout",
     "output_type": "stream",
     "text": [
      "296/296 [==============================] - 17s 58ms/step - loss: 0.0079 - val_loss: 0.0049\n",
      "Epoch 2/500\n",
      "296/296 [==============================] - 6s 21ms/step - loss: 0.0079 - val_loss: 0.0050\n",
      "Epoch 3/500\n",
      "295/296 [============================>.] - ETA: 0s - loss: 0.0078"
     ]
    },
    {
     "name": "stderr",
     "output_type": "stream",
     "text": [
      "WARNING:absl:Found untraced functions such as gru_cell_15_layer_call_fn, gru_cell_15_layer_call_and_return_conditional_losses, gru_cell_16_layer_call_fn, gru_cell_16_layer_call_and_return_conditional_losses, gru_cell_17_layer_call_fn while saving (showing 5 of 8). These functions will not be directly callable after loading.\n"
     ]
    },
    {
     "name": "stdout",
     "output_type": "stream",
     "text": [
      "INFO:tensorflow:Assets written to: model\\assets\n"
     ]
    },
    {
     "name": "stderr",
     "output_type": "stream",
     "text": [
      "INFO:tensorflow:Assets written to: model\\assets\n"
     ]
    },
    {
     "name": "stdout",
     "output_type": "stream",
     "text": [
      "296/296 [==============================] - 16s 53ms/step - loss: 0.0078 - val_loss: 0.0048\n",
      "Epoch 4/500\n",
      "296/296 [==============================] - 6s 21ms/step - loss: 0.0077 - val_loss: 0.0048\n",
      "Epoch 5/500\n",
      "296/296 [==============================] - ETA: 0s - loss: 0.0077"
     ]
    },
    {
     "name": "stderr",
     "output_type": "stream",
     "text": [
      "WARNING:absl:Found untraced functions such as gru_cell_15_layer_call_fn, gru_cell_15_layer_call_and_return_conditional_losses, gru_cell_16_layer_call_fn, gru_cell_16_layer_call_and_return_conditional_losses, gru_cell_17_layer_call_fn while saving (showing 5 of 8). These functions will not be directly callable after loading.\n"
     ]
    },
    {
     "name": "stdout",
     "output_type": "stream",
     "text": [
      "INFO:tensorflow:Assets written to: model\\assets\n"
     ]
    },
    {
     "name": "stderr",
     "output_type": "stream",
     "text": [
      "INFO:tensorflow:Assets written to: model\\assets\n"
     ]
    },
    {
     "name": "stdout",
     "output_type": "stream",
     "text": [
      "296/296 [==============================] - 16s 54ms/step - loss: 0.0077 - val_loss: 0.0047\n",
      "Epoch 6/500\n",
      "294/296 [============================>.] - ETA: 0s - loss: 0.0076"
     ]
    },
    {
     "name": "stderr",
     "output_type": "stream",
     "text": [
      "WARNING:absl:Found untraced functions such as gru_cell_15_layer_call_fn, gru_cell_15_layer_call_and_return_conditional_losses, gru_cell_16_layer_call_fn, gru_cell_16_layer_call_and_return_conditional_losses, gru_cell_17_layer_call_fn while saving (showing 5 of 8). These functions will not be directly callable after loading.\n"
     ]
    },
    {
     "name": "stdout",
     "output_type": "stream",
     "text": [
      "INFO:tensorflow:Assets written to: model\\assets\n"
     ]
    },
    {
     "name": "stderr",
     "output_type": "stream",
     "text": [
      "INFO:tensorflow:Assets written to: model\\assets\n"
     ]
    },
    {
     "name": "stdout",
     "output_type": "stream",
     "text": [
      "296/296 [==============================] - 16s 54ms/step - loss: 0.0076 - val_loss: 0.0045\n",
      "Epoch 7/500\n",
      "296/296 [==============================] - 6s 21ms/step - loss: 0.0074 - val_loss: 0.0045\n",
      "Epoch 8/500\n",
      "296/296 [==============================] - ETA: 0s - loss: 0.0073"
     ]
    },
    {
     "name": "stderr",
     "output_type": "stream",
     "text": [
      "WARNING:absl:Found untraced functions such as gru_cell_15_layer_call_fn, gru_cell_15_layer_call_and_return_conditional_losses, gru_cell_16_layer_call_fn, gru_cell_16_layer_call_and_return_conditional_losses, gru_cell_17_layer_call_fn while saving (showing 5 of 8). These functions will not be directly callable after loading.\n"
     ]
    },
    {
     "name": "stdout",
     "output_type": "stream",
     "text": [
      "INFO:tensorflow:Assets written to: model\\assets\n"
     ]
    },
    {
     "name": "stderr",
     "output_type": "stream",
     "text": [
      "INFO:tensorflow:Assets written to: model\\assets\n"
     ]
    },
    {
     "name": "stdout",
     "output_type": "stream",
     "text": [
      "296/296 [==============================] - 15s 52ms/step - loss: 0.0073 - val_loss: 0.0044\n",
      "Epoch 9/500\n",
      "296/296 [==============================] - 7s 22ms/step - loss: 0.0072 - val_loss: 0.0045\n",
      "Epoch 10/500\n",
      "295/296 [============================>.] - ETA: 0s - loss: 0.0070"
     ]
    },
    {
     "name": "stderr",
     "output_type": "stream",
     "text": [
      "WARNING:absl:Found untraced functions such as gru_cell_15_layer_call_fn, gru_cell_15_layer_call_and_return_conditional_losses, gru_cell_16_layer_call_fn, gru_cell_16_layer_call_and_return_conditional_losses, gru_cell_17_layer_call_fn while saving (showing 5 of 8). These functions will not be directly callable after loading.\n"
     ]
    },
    {
     "name": "stdout",
     "output_type": "stream",
     "text": [
      "INFO:tensorflow:Assets written to: model\\assets\n"
     ]
    },
    {
     "name": "stderr",
     "output_type": "stream",
     "text": [
      "INFO:tensorflow:Assets written to: model\\assets\n"
     ]
    },
    {
     "name": "stdout",
     "output_type": "stream",
     "text": [
      "296/296 [==============================] - 17s 56ms/step - loss: 0.0070 - val_loss: 0.0043\n",
      "Epoch 11/500\n",
      "294/296 [============================>.] - ETA: 0s - loss: 0.0070"
     ]
    },
    {
     "name": "stderr",
     "output_type": "stream",
     "text": [
      "WARNING:absl:Found untraced functions such as gru_cell_15_layer_call_fn, gru_cell_15_layer_call_and_return_conditional_losses, gru_cell_16_layer_call_fn, gru_cell_16_layer_call_and_return_conditional_losses, gru_cell_17_layer_call_fn while saving (showing 5 of 8). These functions will not be directly callable after loading.\n"
     ]
    },
    {
     "name": "stdout",
     "output_type": "stream",
     "text": [
      "INFO:tensorflow:Assets written to: model\\assets\n"
     ]
    },
    {
     "name": "stderr",
     "output_type": "stream",
     "text": [
      "INFO:tensorflow:Assets written to: model\\assets\n"
     ]
    },
    {
     "name": "stdout",
     "output_type": "stream",
     "text": [
      "296/296 [==============================] - 16s 54ms/step - loss: 0.0070 - val_loss: 0.0043\n",
      "Epoch 12/500\n",
      "296/296 [==============================] - 6s 22ms/step - loss: 0.0069 - val_loss: 0.0043\n",
      "Epoch 13/500\n",
      "296/296 [==============================] - ETA: 0s - loss: 0.0068"
     ]
    },
    {
     "name": "stderr",
     "output_type": "stream",
     "text": [
      "WARNING:absl:Found untraced functions such as gru_cell_15_layer_call_fn, gru_cell_15_layer_call_and_return_conditional_losses, gru_cell_16_layer_call_fn, gru_cell_16_layer_call_and_return_conditional_losses, gru_cell_17_layer_call_fn while saving (showing 5 of 8). These functions will not be directly callable after loading.\n"
     ]
    },
    {
     "name": "stdout",
     "output_type": "stream",
     "text": [
      "INFO:tensorflow:Assets written to: model\\assets\n"
     ]
    },
    {
     "name": "stderr",
     "output_type": "stream",
     "text": [
      "INFO:tensorflow:Assets written to: model\\assets\n"
     ]
    },
    {
     "name": "stdout",
     "output_type": "stream",
     "text": [
      "296/296 [==============================] - 16s 53ms/step - loss: 0.0068 - val_loss: 0.0039\n",
      "Epoch 14/500\n",
      "296/296 [==============================] - ETA: 0s - loss: 0.0067"
     ]
    },
    {
     "name": "stderr",
     "output_type": "stream",
     "text": [
      "WARNING:absl:Found untraced functions such as gru_cell_15_layer_call_fn, gru_cell_15_layer_call_and_return_conditional_losses, gru_cell_16_layer_call_fn, gru_cell_16_layer_call_and_return_conditional_losses, gru_cell_17_layer_call_fn while saving (showing 5 of 8). These functions will not be directly callable after loading.\n"
     ]
    },
    {
     "name": "stdout",
     "output_type": "stream",
     "text": [
      "INFO:tensorflow:Assets written to: model\\assets\n"
     ]
    },
    {
     "name": "stderr",
     "output_type": "stream",
     "text": [
      "INFO:tensorflow:Assets written to: model\\assets\n"
     ]
    },
    {
     "name": "stdout",
     "output_type": "stream",
     "text": [
      "296/296 [==============================] - 16s 56ms/step - loss: 0.0067 - val_loss: 0.0038\n",
      "Epoch 15/500\n",
      "296/296 [==============================] - 6s 21ms/step - loss: 0.0066 - val_loss: 0.0039\n",
      "Epoch 16/500\n",
      "295/296 [============================>.] - ETA: 0s - loss: 0.0065"
     ]
    },
    {
     "name": "stderr",
     "output_type": "stream",
     "text": [
      "WARNING:absl:Found untraced functions such as gru_cell_15_layer_call_fn, gru_cell_15_layer_call_and_return_conditional_losses, gru_cell_16_layer_call_fn, gru_cell_16_layer_call_and_return_conditional_losses, gru_cell_17_layer_call_fn while saving (showing 5 of 8). These functions will not be directly callable after loading.\n"
     ]
    },
    {
     "name": "stdout",
     "output_type": "stream",
     "text": [
      "INFO:tensorflow:Assets written to: model\\assets\n"
     ]
    },
    {
     "name": "stderr",
     "output_type": "stream",
     "text": [
      "INFO:tensorflow:Assets written to: model\\assets\n"
     ]
    },
    {
     "name": "stdout",
     "output_type": "stream",
     "text": [
      "296/296 [==============================] - 15s 51ms/step - loss: 0.0065 - val_loss: 0.0036\n",
      "Epoch 17/500\n",
      "296/296 [==============================] - 7s 22ms/step - loss: 0.0065 - val_loss: 0.0037\n",
      "Epoch 18/500\n",
      "294/296 [============================>.] - ETA: 0s - loss: 0.0064"
     ]
    },
    {
     "name": "stderr",
     "output_type": "stream",
     "text": [
      "WARNING:absl:Found untraced functions such as gru_cell_15_layer_call_fn, gru_cell_15_layer_call_and_return_conditional_losses, gru_cell_16_layer_call_fn, gru_cell_16_layer_call_and_return_conditional_losses, gru_cell_17_layer_call_fn while saving (showing 5 of 8). These functions will not be directly callable after loading.\n"
     ]
    },
    {
     "name": "stdout",
     "output_type": "stream",
     "text": [
      "INFO:tensorflow:Assets written to: model\\assets\n"
     ]
    },
    {
     "name": "stderr",
     "output_type": "stream",
     "text": [
      "INFO:tensorflow:Assets written to: model\\assets\n"
     ]
    },
    {
     "name": "stdout",
     "output_type": "stream",
     "text": [
      "296/296 [==============================] - 16s 56ms/step - loss: 0.0064 - val_loss: 0.0036\n",
      "Epoch 19/500\n",
      "296/296 [==============================] - 6s 21ms/step - loss: 0.0064 - val_loss: 0.0039\n",
      "Epoch 20/500\n",
      "296/296 [==============================] - 6s 21ms/step - loss: 0.0063 - val_loss: 0.0038\n",
      "Epoch 21/500\n",
      "296/296 [==============================] - ETA: 0s - loss: 0.0062"
     ]
    },
    {
     "name": "stderr",
     "output_type": "stream",
     "text": [
      "WARNING:absl:Found untraced functions such as gru_cell_15_layer_call_fn, gru_cell_15_layer_call_and_return_conditional_losses, gru_cell_16_layer_call_fn, gru_cell_16_layer_call_and_return_conditional_losses, gru_cell_17_layer_call_fn while saving (showing 5 of 8). These functions will not be directly callable after loading.\n"
     ]
    },
    {
     "name": "stdout",
     "output_type": "stream",
     "text": [
      "INFO:tensorflow:Assets written to: model\\assets\n"
     ]
    },
    {
     "name": "stderr",
     "output_type": "stream",
     "text": [
      "INFO:tensorflow:Assets written to: model\\assets\n"
     ]
    },
    {
     "name": "stdout",
     "output_type": "stream",
     "text": [
      "296/296 [==============================] - 16s 55ms/step - loss: 0.0062 - val_loss: 0.0035\n",
      "Epoch 22/500\n",
      "296/296 [==============================] - 6s 22ms/step - loss: 0.0062 - val_loss: 0.0035\n",
      "Epoch 23/500\n",
      "296/296 [==============================] - ETA: 0s - loss: 0.0062"
     ]
    },
    {
     "name": "stderr",
     "output_type": "stream",
     "text": [
      "WARNING:absl:Found untraced functions such as gru_cell_15_layer_call_fn, gru_cell_15_layer_call_and_return_conditional_losses, gru_cell_16_layer_call_fn, gru_cell_16_layer_call_and_return_conditional_losses, gru_cell_17_layer_call_fn while saving (showing 5 of 8). These functions will not be directly callable after loading.\n"
     ]
    },
    {
     "name": "stdout",
     "output_type": "stream",
     "text": [
      "INFO:tensorflow:Assets written to: model\\assets\n"
     ]
    },
    {
     "name": "stderr",
     "output_type": "stream",
     "text": [
      "INFO:tensorflow:Assets written to: model\\assets\n"
     ]
    },
    {
     "name": "stdout",
     "output_type": "stream",
     "text": [
      "296/296 [==============================] - 15s 52ms/step - loss: 0.0062 - val_loss: 0.0034\n",
      "Epoch 24/500\n",
      "296/296 [==============================] - 5s 18ms/step - loss: 0.0061 - val_loss: 0.0038\n",
      "Epoch 25/500\n",
      "296/296 [==============================] - 6s 20ms/step - loss: 0.0061 - val_loss: 0.0035\n",
      "Epoch 26/500\n",
      "296/296 [==============================] - 6s 22ms/step - loss: 0.0060 - val_loss: 0.0035\n",
      "Epoch 27/500\n",
      "296/296 [==============================] - ETA: 0s - loss: 0.0060"
     ]
    },
    {
     "name": "stderr",
     "output_type": "stream",
     "text": [
      "WARNING:absl:Found untraced functions such as gru_cell_15_layer_call_fn, gru_cell_15_layer_call_and_return_conditional_losses, gru_cell_16_layer_call_fn, gru_cell_16_layer_call_and_return_conditional_losses, gru_cell_17_layer_call_fn while saving (showing 5 of 8). These functions will not be directly callable after loading.\n"
     ]
    },
    {
     "name": "stdout",
     "output_type": "stream",
     "text": [
      "INFO:tensorflow:Assets written to: model\\assets\n"
     ]
    },
    {
     "name": "stderr",
     "output_type": "stream",
     "text": [
      "INFO:tensorflow:Assets written to: model\\assets\n"
     ]
    },
    {
     "name": "stdout",
     "output_type": "stream",
     "text": [
      "296/296 [==============================] - 16s 55ms/step - loss: 0.0060 - val_loss: 0.0034\n",
      "Epoch 28/500\n",
      "296/296 [==============================] - 6s 21ms/step - loss: 0.0060 - val_loss: 0.0034\n",
      "Epoch 29/500\n",
      "296/296 [==============================] - 6s 21ms/step - loss: 0.0059 - val_loss: 0.0036\n",
      "Epoch 30/500\n",
      "296/296 [==============================] - 6s 22ms/step - loss: 0.0059 - val_loss: 0.0035\n",
      "Epoch 31/500\n",
      "296/296 [==============================] - 6s 22ms/step - loss: 0.0059 - val_loss: 0.0037\n",
      "Epoch 32/500\n",
      "296/296 [==============================] - 6s 22ms/step - loss: 0.0058 - val_loss: 0.0035\n",
      "Epoch 33/500\n",
      "296/296 [==============================] - ETA: 0s - loss: 0.0058"
     ]
    },
    {
     "name": "stderr",
     "output_type": "stream",
     "text": [
      "WARNING:absl:Found untraced functions such as gru_cell_15_layer_call_fn, gru_cell_15_layer_call_and_return_conditional_losses, gru_cell_16_layer_call_fn, gru_cell_16_layer_call_and_return_conditional_losses, gru_cell_17_layer_call_fn while saving (showing 5 of 8). These functions will not be directly callable after loading.\n"
     ]
    },
    {
     "name": "stdout",
     "output_type": "stream",
     "text": [
      "INFO:tensorflow:Assets written to: model\\assets\n"
     ]
    },
    {
     "name": "stderr",
     "output_type": "stream",
     "text": [
      "INFO:tensorflow:Assets written to: model\\assets\n"
     ]
    },
    {
     "name": "stdout",
     "output_type": "stream",
     "text": [
      "296/296 [==============================] - 16s 53ms/step - loss: 0.0058 - val_loss: 0.0032\n",
      "Epoch 34/500\n",
      "296/296 [==============================] - 6s 21ms/step - loss: 0.0058 - val_loss: 0.0034\n",
      "Epoch 35/500\n",
      "296/296 [==============================] - 6s 22ms/step - loss: 0.0058 - val_loss: 0.0033\n",
      "Epoch 36/500\n",
      "296/296 [==============================] - 6s 21ms/step - loss: 0.0058 - val_loss: 0.0032\n",
      "Epoch 37/500\n",
      "296/296 [==============================] - 6s 22ms/step - loss: 0.0057 - val_loss: 0.0033\n",
      "Epoch 38/500\n",
      "296/296 [==============================] - 6s 21ms/step - loss: 0.0057 - val_loss: 0.0032\n",
      "Epoch 39/500\n",
      "295/296 [============================>.] - ETA: 0s - loss: 0.0057"
     ]
    },
    {
     "name": "stderr",
     "output_type": "stream",
     "text": [
      "WARNING:absl:Found untraced functions such as gru_cell_15_layer_call_fn, gru_cell_15_layer_call_and_return_conditional_losses, gru_cell_16_layer_call_fn, gru_cell_16_layer_call_and_return_conditional_losses, gru_cell_17_layer_call_fn while saving (showing 5 of 8). These functions will not be directly callable after loading.\n"
     ]
    },
    {
     "name": "stdout",
     "output_type": "stream",
     "text": [
      "INFO:tensorflow:Assets written to: model\\assets\n"
     ]
    },
    {
     "name": "stderr",
     "output_type": "stream",
     "text": [
      "INFO:tensorflow:Assets written to: model\\assets\n"
     ]
    },
    {
     "name": "stdout",
     "output_type": "stream",
     "text": [
      "296/296 [==============================] - 17s 56ms/step - loss: 0.0057 - val_loss: 0.0032\n",
      "Epoch 40/500\n",
      "296/296 [==============================] - ETA: 0s - loss: 0.0057"
     ]
    },
    {
     "name": "stderr",
     "output_type": "stream",
     "text": [
      "WARNING:absl:Found untraced functions such as gru_cell_15_layer_call_fn, gru_cell_15_layer_call_and_return_conditional_losses, gru_cell_16_layer_call_fn, gru_cell_16_layer_call_and_return_conditional_losses, gru_cell_17_layer_call_fn while saving (showing 5 of 8). These functions will not be directly callable after loading.\n"
     ]
    },
    {
     "name": "stdout",
     "output_type": "stream",
     "text": [
      "INFO:tensorflow:Assets written to: model\\assets\n"
     ]
    },
    {
     "name": "stderr",
     "output_type": "stream",
     "text": [
      "INFO:tensorflow:Assets written to: model\\assets\n"
     ]
    },
    {
     "name": "stdout",
     "output_type": "stream",
     "text": [
      "296/296 [==============================] - 15s 52ms/step - loss: 0.0057 - val_loss: 0.0032\n",
      "Epoch 41/500\n",
      "296/296 [==============================] - 7s 22ms/step - loss: 0.0056 - val_loss: 0.0032\n",
      "Epoch 42/500\n",
      "293/296 [============================>.] - ETA: 0s - loss: 0.0056"
     ]
    },
    {
     "name": "stderr",
     "output_type": "stream",
     "text": [
      "WARNING:absl:Found untraced functions such as gru_cell_15_layer_call_fn, gru_cell_15_layer_call_and_return_conditional_losses, gru_cell_16_layer_call_fn, gru_cell_16_layer_call_and_return_conditional_losses, gru_cell_17_layer_call_fn while saving (showing 5 of 8). These functions will not be directly callable after loading.\n"
     ]
    },
    {
     "name": "stdout",
     "output_type": "stream",
     "text": [
      "INFO:tensorflow:Assets written to: model\\assets\n"
     ]
    },
    {
     "name": "stderr",
     "output_type": "stream",
     "text": [
      "INFO:tensorflow:Assets written to: model\\assets\n"
     ]
    },
    {
     "name": "stdout",
     "output_type": "stream",
     "text": [
      "296/296 [==============================] - 16s 56ms/step - loss: 0.0056 - val_loss: 0.0031\n",
      "Epoch 43/500\n",
      "296/296 [==============================] - 7s 22ms/step - loss: 0.0056 - val_loss: 0.0034\n",
      "Epoch 44/500\n",
      "296/296 [==============================] - 6s 21ms/step - loss: 0.0056 - val_loss: 0.0032\n",
      "Epoch 45/500\n",
      "296/296 [==============================] - 6s 22ms/step - loss: 0.0055 - val_loss: 0.0032\n",
      "Epoch 46/500\n",
      "296/296 [==============================] - 6s 22ms/step - loss: 0.0055 - val_loss: 0.0032\n",
      "Epoch 47/500\n",
      "296/296 [==============================] - 6s 22ms/step - loss: 0.0056 - val_loss: 0.0034\n",
      "Epoch 48/500\n",
      "296/296 [==============================] - 6s 21ms/step - loss: 0.0055 - val_loss: 0.0031\n",
      "Epoch 49/500\n",
      "296/296 [==============================] - 6s 21ms/step - loss: 0.0055 - val_loss: 0.0032\n",
      "Epoch 50/500\n",
      "296/296 [==============================] - 6s 21ms/step - loss: 0.0055 - val_loss: 0.0033\n",
      "Epoch 51/500\n",
      "296/296 [==============================] - 6s 20ms/step - loss: 0.0055 - val_loss: 0.0032\n",
      "Epoch 52/500\n",
      "295/296 [============================>.] - ETA: 0s - loss: 0.0055"
     ]
    },
    {
     "name": "stderr",
     "output_type": "stream",
     "text": [
      "WARNING:absl:Found untraced functions such as gru_cell_15_layer_call_fn, gru_cell_15_layer_call_and_return_conditional_losses, gru_cell_16_layer_call_fn, gru_cell_16_layer_call_and_return_conditional_losses, gru_cell_17_layer_call_fn while saving (showing 5 of 8). These functions will not be directly callable after loading.\n"
     ]
    },
    {
     "name": "stdout",
     "output_type": "stream",
     "text": [
      "INFO:tensorflow:Assets written to: model\\assets\n"
     ]
    },
    {
     "name": "stderr",
     "output_type": "stream",
     "text": [
      "INFO:tensorflow:Assets written to: model\\assets\n"
     ]
    },
    {
     "name": "stdout",
     "output_type": "stream",
     "text": [
      "296/296 [==============================] - 15s 52ms/step - loss: 0.0055 - val_loss: 0.0030\n",
      "Epoch 53/500\n",
      "295/296 [============================>.] - ETA: 0s - loss: 0.0054"
     ]
    },
    {
     "name": "stderr",
     "output_type": "stream",
     "text": [
      "WARNING:absl:Found untraced functions such as gru_cell_15_layer_call_fn, gru_cell_15_layer_call_and_return_conditional_losses, gru_cell_16_layer_call_fn, gru_cell_16_layer_call_and_return_conditional_losses, gru_cell_17_layer_call_fn while saving (showing 5 of 8). These functions will not be directly callable after loading.\n"
     ]
    },
    {
     "name": "stdout",
     "output_type": "stream",
     "text": [
      "INFO:tensorflow:Assets written to: model\\assets\n"
     ]
    },
    {
     "name": "stderr",
     "output_type": "stream",
     "text": [
      "INFO:tensorflow:Assets written to: model\\assets\n"
     ]
    },
    {
     "name": "stdout",
     "output_type": "stream",
     "text": [
      "296/296 [==============================] - 15s 52ms/step - loss: 0.0054 - val_loss: 0.0030\n",
      "Epoch 54/500\n",
      "296/296 [==============================] - ETA: 0s - loss: 0.0054"
     ]
    },
    {
     "name": "stderr",
     "output_type": "stream",
     "text": [
      "WARNING:absl:Found untraced functions such as gru_cell_15_layer_call_fn, gru_cell_15_layer_call_and_return_conditional_losses, gru_cell_16_layer_call_fn, gru_cell_16_layer_call_and_return_conditional_losses, gru_cell_17_layer_call_fn while saving (showing 5 of 8). These functions will not be directly callable after loading.\n"
     ]
    },
    {
     "name": "stdout",
     "output_type": "stream",
     "text": [
      "INFO:tensorflow:Assets written to: model\\assets\n"
     ]
    },
    {
     "name": "stderr",
     "output_type": "stream",
     "text": [
      "INFO:tensorflow:Assets written to: model\\assets\n"
     ]
    },
    {
     "name": "stdout",
     "output_type": "stream",
     "text": [
      "296/296 [==============================] - 16s 55ms/step - loss: 0.0054 - val_loss: 0.0030\n",
      "Epoch 55/500\n",
      "296/296 [==============================] - 6s 21ms/step - loss: 0.0054 - val_loss: 0.0031\n",
      "Epoch 56/500\n",
      "296/296 [==============================] - 6s 21ms/step - loss: 0.0054 - val_loss: 0.0032\n",
      "Epoch 57/500\n",
      "296/296 [==============================] - 6s 21ms/step - loss: 0.0054 - val_loss: 0.0031\n",
      "Epoch 58/500\n",
      "296/296 [==============================] - ETA: 0s - loss: 0.0054"
     ]
    },
    {
     "name": "stderr",
     "output_type": "stream",
     "text": [
      "WARNING:absl:Found untraced functions such as gru_cell_15_layer_call_fn, gru_cell_15_layer_call_and_return_conditional_losses, gru_cell_16_layer_call_fn, gru_cell_16_layer_call_and_return_conditional_losses, gru_cell_17_layer_call_fn while saving (showing 5 of 8). These functions will not be directly callable after loading.\n"
     ]
    },
    {
     "name": "stdout",
     "output_type": "stream",
     "text": [
      "INFO:tensorflow:Assets written to: model\\assets\n"
     ]
    },
    {
     "name": "stderr",
     "output_type": "stream",
     "text": [
      "INFO:tensorflow:Assets written to: model\\assets\n"
     ]
    },
    {
     "name": "stdout",
     "output_type": "stream",
     "text": [
      "296/296 [==============================] - 16s 53ms/step - loss: 0.0054 - val_loss: 0.0030\n",
      "Epoch 59/500\n",
      "296/296 [==============================] - 6s 20ms/step - loss: 0.0053 - val_loss: 0.0030\n",
      "Epoch 60/500\n",
      "296/296 [==============================] - 6s 21ms/step - loss: 0.0053 - val_loss: 0.0030\n",
      "Epoch 61/500\n",
      "296/296 [==============================] - 6s 21ms/step - loss: 0.0053 - val_loss: 0.0030\n",
      "Epoch 62/500\n",
      "296/296 [==============================] - ETA: 0s - loss: 0.0053"
     ]
    },
    {
     "name": "stderr",
     "output_type": "stream",
     "text": [
      "WARNING:absl:Found untraced functions such as gru_cell_15_layer_call_fn, gru_cell_15_layer_call_and_return_conditional_losses, gru_cell_16_layer_call_fn, gru_cell_16_layer_call_and_return_conditional_losses, gru_cell_17_layer_call_fn while saving (showing 5 of 8). These functions will not be directly callable after loading.\n"
     ]
    },
    {
     "name": "stdout",
     "output_type": "stream",
     "text": [
      "INFO:tensorflow:Assets written to: model\\assets\n"
     ]
    },
    {
     "name": "stderr",
     "output_type": "stream",
     "text": [
      "INFO:tensorflow:Assets written to: model\\assets\n"
     ]
    },
    {
     "name": "stdout",
     "output_type": "stream",
     "text": [
      "296/296 [==============================] - 16s 53ms/step - loss: 0.0053 - val_loss: 0.0029\n",
      "Epoch 63/500\n",
      "296/296 [==============================] - 6s 21ms/step - loss: 0.0053 - val_loss: 0.0029\n",
      "Epoch 64/500\n",
      "296/296 [==============================] - 6s 20ms/step - loss: 0.0053 - val_loss: 0.0029\n",
      "Epoch 65/500\n",
      "296/296 [==============================] - ETA: 0s - loss: 0.0053"
     ]
    },
    {
     "name": "stderr",
     "output_type": "stream",
     "text": [
      "WARNING:absl:Found untraced functions such as gru_cell_15_layer_call_fn, gru_cell_15_layer_call_and_return_conditional_losses, gru_cell_16_layer_call_fn, gru_cell_16_layer_call_and_return_conditional_losses, gru_cell_17_layer_call_fn while saving (showing 5 of 8). These functions will not be directly callable after loading.\n"
     ]
    },
    {
     "name": "stdout",
     "output_type": "stream",
     "text": [
      "INFO:tensorflow:Assets written to: model\\assets\n"
     ]
    },
    {
     "name": "stderr",
     "output_type": "stream",
     "text": [
      "INFO:tensorflow:Assets written to: model\\assets\n"
     ]
    },
    {
     "name": "stdout",
     "output_type": "stream",
     "text": [
      "296/296 [==============================] - 16s 54ms/step - loss: 0.0053 - val_loss: 0.0029\n",
      "Epoch 66/500\n",
      "295/296 [============================>.] - ETA: 0s - loss: 0.0052"
     ]
    },
    {
     "name": "stderr",
     "output_type": "stream",
     "text": [
      "WARNING:absl:Found untraced functions such as gru_cell_15_layer_call_fn, gru_cell_15_layer_call_and_return_conditional_losses, gru_cell_16_layer_call_fn, gru_cell_16_layer_call_and_return_conditional_losses, gru_cell_17_layer_call_fn while saving (showing 5 of 8). These functions will not be directly callable after loading.\n"
     ]
    },
    {
     "name": "stdout",
     "output_type": "stream",
     "text": [
      "INFO:tensorflow:Assets written to: model\\assets\n"
     ]
    },
    {
     "name": "stderr",
     "output_type": "stream",
     "text": [
      "INFO:tensorflow:Assets written to: model\\assets\n"
     ]
    },
    {
     "name": "stdout",
     "output_type": "stream",
     "text": [
      "296/296 [==============================] - 16s 54ms/step - loss: 0.0052 - val_loss: 0.0029\n",
      "Epoch 67/500\n",
      "296/296 [==============================] - 6s 20ms/step - loss: 0.0053 - val_loss: 0.0029\n",
      "Epoch 68/500\n",
      "296/296 [==============================] - 6s 21ms/step - loss: 0.0052 - val_loss: 0.0030\n",
      "Epoch 69/500\n",
      "296/296 [==============================] - 6s 20ms/step - loss: 0.0052 - val_loss: 0.0029\n",
      "Epoch 70/500\n",
      "296/296 [==============================] - 6s 20ms/step - loss: 0.0052 - val_loss: 0.0029\n",
      "Epoch 71/500\n",
      "296/296 [==============================] - 6s 21ms/step - loss: 0.0052 - val_loss: 0.0033\n",
      "Epoch 72/500\n",
      "296/296 [==============================] - 6s 22ms/step - loss: 0.0052 - val_loss: 0.0029\n",
      "Epoch 73/500\n",
      "296/296 [==============================] - 6s 20ms/step - loss: 0.0052 - val_loss: 0.0030\n",
      "Epoch 74/500\n",
      "294/296 [============================>.] - ETA: 0s - loss: 0.0052"
     ]
    },
    {
     "name": "stderr",
     "output_type": "stream",
     "text": [
      "WARNING:absl:Found untraced functions such as gru_cell_15_layer_call_fn, gru_cell_15_layer_call_and_return_conditional_losses, gru_cell_16_layer_call_fn, gru_cell_16_layer_call_and_return_conditional_losses, gru_cell_17_layer_call_fn while saving (showing 5 of 8). These functions will not be directly callable after loading.\n"
     ]
    },
    {
     "name": "stdout",
     "output_type": "stream",
     "text": [
      "INFO:tensorflow:Assets written to: model\\assets\n"
     ]
    },
    {
     "name": "stderr",
     "output_type": "stream",
     "text": [
      "INFO:tensorflow:Assets written to: model\\assets\n"
     ]
    },
    {
     "name": "stdout",
     "output_type": "stream",
     "text": [
      "296/296 [==============================] - 15s 50ms/step - loss: 0.0052 - val_loss: 0.0028\n",
      "Epoch 75/500\n",
      "295/296 [============================>.] - ETA: 0s - loss: 0.0052"
     ]
    },
    {
     "name": "stderr",
     "output_type": "stream",
     "text": [
      "WARNING:absl:Found untraced functions such as gru_cell_15_layer_call_fn, gru_cell_15_layer_call_and_return_conditional_losses, gru_cell_16_layer_call_fn, gru_cell_16_layer_call_and_return_conditional_losses, gru_cell_17_layer_call_fn while saving (showing 5 of 8). These functions will not be directly callable after loading.\n"
     ]
    },
    {
     "name": "stdout",
     "output_type": "stream",
     "text": [
      "INFO:tensorflow:Assets written to: model\\assets\n"
     ]
    },
    {
     "name": "stderr",
     "output_type": "stream",
     "text": [
      "INFO:tensorflow:Assets written to: model\\assets\n"
     ]
    },
    {
     "name": "stdout",
     "output_type": "stream",
     "text": [
      "296/296 [==============================] - 16s 55ms/step - loss: 0.0052 - val_loss: 0.0028\n",
      "Epoch 76/500\n",
      "296/296 [==============================] - 6s 21ms/step - loss: 0.0051 - val_loss: 0.0028\n",
      "Epoch 77/500\n",
      "296/296 [==============================] - 6s 20ms/step - loss: 0.0051 - val_loss: 0.0029\n",
      "Epoch 78/500\n",
      "296/296 [==============================] - 6s 20ms/step - loss: 0.0051 - val_loss: 0.0028\n",
      "Epoch 79/500\n",
      "296/296 [==============================] - ETA: 0s - loss: 0.0051"
     ]
    },
    {
     "name": "stderr",
     "output_type": "stream",
     "text": [
      "WARNING:absl:Found untraced functions such as gru_cell_15_layer_call_fn, gru_cell_15_layer_call_and_return_conditional_losses, gru_cell_16_layer_call_fn, gru_cell_16_layer_call_and_return_conditional_losses, gru_cell_17_layer_call_fn while saving (showing 5 of 8). These functions will not be directly callable after loading.\n"
     ]
    },
    {
     "name": "stdout",
     "output_type": "stream",
     "text": [
      "INFO:tensorflow:Assets written to: model\\assets\n"
     ]
    },
    {
     "name": "stderr",
     "output_type": "stream",
     "text": [
      "INFO:tensorflow:Assets written to: model\\assets\n"
     ]
    },
    {
     "name": "stdout",
     "output_type": "stream",
     "text": [
      "296/296 [==============================] - 15s 51ms/step - loss: 0.0051 - val_loss: 0.0028\n",
      "Epoch 80/500\n",
      "296/296 [==============================] - 6s 20ms/step - loss: 0.0051 - val_loss: 0.0029\n",
      "Epoch 81/500\n",
      "296/296 [==============================] - 6s 20ms/step - loss: 0.0051 - val_loss: 0.0028\n",
      "Epoch 82/500\n",
      "296/296 [==============================] - ETA: 0s - loss: 0.0051"
     ]
    },
    {
     "name": "stderr",
     "output_type": "stream",
     "text": [
      "WARNING:absl:Found untraced functions such as gru_cell_15_layer_call_fn, gru_cell_15_layer_call_and_return_conditional_losses, gru_cell_16_layer_call_fn, gru_cell_16_layer_call_and_return_conditional_losses, gru_cell_17_layer_call_fn while saving (showing 5 of 8). These functions will not be directly callable after loading.\n"
     ]
    },
    {
     "name": "stdout",
     "output_type": "stream",
     "text": [
      "INFO:tensorflow:Assets written to: model\\assets\n"
     ]
    },
    {
     "name": "stderr",
     "output_type": "stream",
     "text": [
      "INFO:tensorflow:Assets written to: model\\assets\n"
     ]
    },
    {
     "name": "stdout",
     "output_type": "stream",
     "text": [
      "296/296 [==============================] - 16s 54ms/step - loss: 0.0051 - val_loss: 0.0028\n",
      "Epoch 83/500\n",
      "296/296 [==============================] - 6s 20ms/step - loss: 0.0051 - val_loss: 0.0029\n",
      "Epoch 84/500\n",
      "296/296 [==============================] - 6s 20ms/step - loss: 0.0051 - val_loss: 0.0030\n",
      "Epoch 85/500\n",
      "296/296 [==============================] - 6s 20ms/step - loss: 0.0050 - val_loss: 0.0028\n",
      "Epoch 86/500\n",
      "296/296 [==============================] - 6s 20ms/step - loss: 0.0051 - val_loss: 0.0028\n",
      "Epoch 87/500\n",
      "296/296 [==============================] - 6s 20ms/step - loss: 0.0050 - val_loss: 0.0028\n",
      "Epoch 88/500\n",
      "296/296 [==============================] - 6s 20ms/step - loss: 0.0050 - val_loss: 0.0028\n",
      "Epoch 89/500\n",
      "296/296 [==============================] - 6s 20ms/step - loss: 0.0050 - val_loss: 0.0030\n",
      "Epoch 90/500\n",
      "293/296 [============================>.] - ETA: 0s - loss: 0.0050"
     ]
    },
    {
     "name": "stderr",
     "output_type": "stream",
     "text": [
      "WARNING:absl:Found untraced functions such as gru_cell_15_layer_call_fn, gru_cell_15_layer_call_and_return_conditional_losses, gru_cell_16_layer_call_fn, gru_cell_16_layer_call_and_return_conditional_losses, gru_cell_17_layer_call_fn while saving (showing 5 of 8). These functions will not be directly callable after loading.\n"
     ]
    },
    {
     "name": "stdout",
     "output_type": "stream",
     "text": [
      "INFO:tensorflow:Assets written to: model\\assets\n"
     ]
    },
    {
     "name": "stderr",
     "output_type": "stream",
     "text": [
      "INFO:tensorflow:Assets written to: model\\assets\n"
     ]
    },
    {
     "name": "stdout",
     "output_type": "stream",
     "text": [
      "296/296 [==============================] - 15s 51ms/step - loss: 0.0050 - val_loss: 0.0028\n",
      "Epoch 91/500\n",
      "296/296 [==============================] - 6s 20ms/step - loss: 0.0050 - val_loss: 0.0029\n",
      "Epoch 92/500\n",
      "296/296 [==============================] - 7s 24ms/step - loss: 0.0050 - val_loss: 0.0028\n",
      "Epoch 93/500\n",
      "293/296 [============================>.] - ETA: 0s - loss: 0.0050"
     ]
    },
    {
     "name": "stderr",
     "output_type": "stream",
     "text": [
      "WARNING:absl:Found untraced functions such as gru_cell_15_layer_call_fn, gru_cell_15_layer_call_and_return_conditional_losses, gru_cell_16_layer_call_fn, gru_cell_16_layer_call_and_return_conditional_losses, gru_cell_17_layer_call_fn while saving (showing 5 of 8). These functions will not be directly callable after loading.\n"
     ]
    },
    {
     "name": "stdout",
     "output_type": "stream",
     "text": [
      "INFO:tensorflow:Assets written to: model\\assets\n"
     ]
    },
    {
     "name": "stderr",
     "output_type": "stream",
     "text": [
      "INFO:tensorflow:Assets written to: model\\assets\n"
     ]
    },
    {
     "name": "stdout",
     "output_type": "stream",
     "text": [
      "296/296 [==============================] - 15s 52ms/step - loss: 0.0050 - val_loss: 0.0027\n",
      "Epoch 94/500\n",
      "296/296 [==============================] - 6s 19ms/step - loss: 0.0050 - val_loss: 0.0028\n",
      "Epoch 95/500\n",
      "296/296 [==============================] - 5s 19ms/step - loss: 0.0049 - val_loss: 0.0027\n",
      "Epoch 96/500\n",
      "296/296 [==============================] - 6s 20ms/step - loss: 0.0049 - val_loss: 0.0029\n",
      "Epoch 97/500\n",
      "296/296 [==============================] - 6s 20ms/step - loss: 0.0049 - val_loss: 0.0028\n",
      "Epoch 98/500\n",
      "295/296 [============================>.] - ETA: 0s - loss: 0.0049"
     ]
    },
    {
     "name": "stderr",
     "output_type": "stream",
     "text": [
      "WARNING:absl:Found untraced functions such as gru_cell_15_layer_call_fn, gru_cell_15_layer_call_and_return_conditional_losses, gru_cell_16_layer_call_fn, gru_cell_16_layer_call_and_return_conditional_losses, gru_cell_17_layer_call_fn while saving (showing 5 of 8). These functions will not be directly callable after loading.\n"
     ]
    },
    {
     "name": "stdout",
     "output_type": "stream",
     "text": [
      "INFO:tensorflow:Assets written to: model\\assets\n"
     ]
    },
    {
     "name": "stderr",
     "output_type": "stream",
     "text": [
      "INFO:tensorflow:Assets written to: model\\assets\n"
     ]
    },
    {
     "name": "stdout",
     "output_type": "stream",
     "text": [
      "296/296 [==============================] - 16s 53ms/step - loss: 0.0049 - val_loss: 0.0027\n",
      "Epoch 99/500\n",
      "296/296 [==============================] - 6s 21ms/step - loss: 0.0049 - val_loss: 0.0028\n",
      "Epoch 100/500\n",
      "294/296 [============================>.] - ETA: 0s - loss: 0.0049"
     ]
    },
    {
     "name": "stderr",
     "output_type": "stream",
     "text": [
      "WARNING:absl:Found untraced functions such as gru_cell_15_layer_call_fn, gru_cell_15_layer_call_and_return_conditional_losses, gru_cell_16_layer_call_fn, gru_cell_16_layer_call_and_return_conditional_losses, gru_cell_17_layer_call_fn while saving (showing 5 of 8). These functions will not be directly callable after loading.\n"
     ]
    },
    {
     "name": "stdout",
     "output_type": "stream",
     "text": [
      "INFO:tensorflow:Assets written to: model\\assets\n"
     ]
    },
    {
     "name": "stderr",
     "output_type": "stream",
     "text": [
      "INFO:tensorflow:Assets written to: model\\assets\n"
     ]
    },
    {
     "name": "stdout",
     "output_type": "stream",
     "text": [
      "296/296 [==============================] - 15s 51ms/step - loss: 0.0049 - val_loss: 0.0027\n",
      "Epoch 101/500\n",
      "296/296 [==============================] - ETA: 0s - loss: 0.0049"
     ]
    },
    {
     "name": "stderr",
     "output_type": "stream",
     "text": [
      "WARNING:absl:Found untraced functions such as gru_cell_15_layer_call_fn, gru_cell_15_layer_call_and_return_conditional_losses, gru_cell_16_layer_call_fn, gru_cell_16_layer_call_and_return_conditional_losses, gru_cell_17_layer_call_fn while saving (showing 5 of 8). These functions will not be directly callable after loading.\n"
     ]
    },
    {
     "name": "stdout",
     "output_type": "stream",
     "text": [
      "INFO:tensorflow:Assets written to: model\\assets\n"
     ]
    },
    {
     "name": "stderr",
     "output_type": "stream",
     "text": [
      "INFO:tensorflow:Assets written to: model\\assets\n"
     ]
    },
    {
     "name": "stdout",
     "output_type": "stream",
     "text": [
      "296/296 [==============================] - 16s 55ms/step - loss: 0.0049 - val_loss: 0.0026\n",
      "Epoch 102/500\n",
      "296/296 [==============================] - 6s 21ms/step - loss: 0.0049 - val_loss: 0.0028\n",
      "Epoch 103/500\n",
      "296/296 [==============================] - 6s 21ms/step - loss: 0.0049 - val_loss: 0.0028\n",
      "Epoch 104/500\n",
      "296/296 [==============================] - 6s 20ms/step - loss: 0.0048 - val_loss: 0.0028\n",
      "Epoch 105/500\n",
      "296/296 [==============================] - 7s 22ms/step - loss: 0.0048 - val_loss: 0.0027\n",
      "Epoch 106/500\n",
      "296/296 [==============================] - 6s 20ms/step - loss: 0.0048 - val_loss: 0.0028\n",
      "Epoch 107/500\n",
      "296/296 [==============================] - 6s 21ms/step - loss: 0.0048 - val_loss: 0.0026\n",
      "Epoch 108/500\n",
      "296/296 [==============================] - 6s 21ms/step - loss: 0.0048 - val_loss: 0.0027\n",
      "Epoch 109/500\n",
      "296/296 [==============================] - 6s 21ms/step - loss: 0.0048 - val_loss: 0.0027\n",
      "Epoch 110/500\n",
      "296/296 [==============================] - 7s 22ms/step - loss: 0.0048 - val_loss: 0.0027\n",
      "Epoch 111/500\n",
      "296/296 [==============================] - 6s 22ms/step - loss: 0.0048 - val_loss: 0.0031\n",
      "Epoch 112/500\n",
      "296/296 [==============================] - 6s 22ms/step - loss: 0.0048 - val_loss: 0.0027\n",
      "Epoch 113/500\n",
      "296/296 [==============================] - 6s 21ms/step - loss: 0.0048 - val_loss: 0.0027\n",
      "Epoch 114/500\n",
      "296/296 [==============================] - ETA: 0s - loss: 0.0048"
     ]
    },
    {
     "name": "stderr",
     "output_type": "stream",
     "text": [
      "WARNING:absl:Found untraced functions such as gru_cell_15_layer_call_fn, gru_cell_15_layer_call_and_return_conditional_losses, gru_cell_16_layer_call_fn, gru_cell_16_layer_call_and_return_conditional_losses, gru_cell_17_layer_call_fn while saving (showing 5 of 8). These functions will not be directly callable after loading.\n"
     ]
    },
    {
     "name": "stdout",
     "output_type": "stream",
     "text": [
      "INFO:tensorflow:Assets written to: model\\assets\n"
     ]
    },
    {
     "name": "stderr",
     "output_type": "stream",
     "text": [
      "INFO:tensorflow:Assets written to: model\\assets\n"
     ]
    },
    {
     "name": "stdout",
     "output_type": "stream",
     "text": [
      "296/296 [==============================] - 16s 53ms/step - loss: 0.0048 - val_loss: 0.0026\n",
      "Epoch 115/500\n",
      "296/296 [==============================] - 7s 22ms/step - loss: 0.0047 - val_loss: 0.0026\n",
      "Epoch 116/500\n",
      "296/296 [==============================] - 6s 21ms/step - loss: 0.0047 - val_loss: 0.0026\n",
      "Epoch 117/500\n",
      "296/296 [==============================] - 6s 22ms/step - loss: 0.0048 - val_loss: 0.0027\n",
      "Epoch 118/500\n",
      "296/296 [==============================] - 7s 22ms/step - loss: 0.0047 - val_loss: 0.0026\n",
      "Epoch 119/500\n",
      "296/296 [==============================] - 6s 21ms/step - loss: 0.0047 - val_loss: 0.0029\n",
      "Epoch 120/500\n",
      "296/296 [==============================] - 6s 21ms/step - loss: 0.0047 - val_loss: 0.0026\n",
      "Epoch 121/500\n",
      "296/296 [==============================] - 6s 21ms/step - loss: 0.0047 - val_loss: 0.0028\n",
      "Epoch 122/500\n",
      "296/296 [==============================] - 6s 21ms/step - loss: 0.0047 - val_loss: 0.0027\n",
      "Epoch 123/500\n",
      "296/296 [==============================] - 6s 20ms/step - loss: 0.0047 - val_loss: 0.0027\n",
      "Epoch 124/500\n",
      "296/296 [==============================] - 6s 21ms/step - loss: 0.0047 - val_loss: 0.0026\n",
      "Epoch 125/500\n",
      "296/296 [==============================] - 6s 21ms/step - loss: 0.0047 - val_loss: 0.0026\n",
      "Epoch 126/500\n",
      "296/296 [==============================] - 6s 21ms/step - loss: 0.0047 - val_loss: 0.0026\n",
      "Epoch 127/500\n",
      "296/296 [==============================] - 6s 20ms/step - loss: 0.0047 - val_loss: 0.0026\n",
      "Epoch 128/500\n",
      "296/296 [==============================] - 6s 21ms/step - loss: 0.0047 - val_loss: 0.0028\n",
      "Epoch 129/500\n",
      "295/296 [============================>.] - ETA: 0s - loss: 0.0046"
     ]
    },
    {
     "name": "stderr",
     "output_type": "stream",
     "text": [
      "WARNING:absl:Found untraced functions such as gru_cell_15_layer_call_fn, gru_cell_15_layer_call_and_return_conditional_losses, gru_cell_16_layer_call_fn, gru_cell_16_layer_call_and_return_conditional_losses, gru_cell_17_layer_call_fn while saving (showing 5 of 8). These functions will not be directly callable after loading.\n"
     ]
    },
    {
     "name": "stdout",
     "output_type": "stream",
     "text": [
      "INFO:tensorflow:Assets written to: model\\assets\n"
     ]
    },
    {
     "name": "stderr",
     "output_type": "stream",
     "text": [
      "INFO:tensorflow:Assets written to: model\\assets\n"
     ]
    },
    {
     "name": "stdout",
     "output_type": "stream",
     "text": [
      "296/296 [==============================] - 15s 49ms/step - loss: 0.0046 - val_loss: 0.0026\n",
      "Epoch 130/500\n",
      "296/296 [==============================] - 6s 22ms/step - loss: 0.0046 - val_loss: 0.0027\n",
      "Epoch 131/500\n",
      "295/296 [============================>.] - ETA: 0s - loss: 0.0046"
     ]
    },
    {
     "name": "stderr",
     "output_type": "stream",
     "text": [
      "WARNING:absl:Found untraced functions such as gru_cell_15_layer_call_fn, gru_cell_15_layer_call_and_return_conditional_losses, gru_cell_16_layer_call_fn, gru_cell_16_layer_call_and_return_conditional_losses, gru_cell_17_layer_call_fn while saving (showing 5 of 8). These functions will not be directly callable after loading.\n"
     ]
    },
    {
     "name": "stdout",
     "output_type": "stream",
     "text": [
      "INFO:tensorflow:Assets written to: model\\assets\n"
     ]
    },
    {
     "name": "stderr",
     "output_type": "stream",
     "text": [
      "INFO:tensorflow:Assets written to: model\\assets\n"
     ]
    },
    {
     "name": "stdout",
     "output_type": "stream",
     "text": [
      "296/296 [==============================] - 16s 54ms/step - loss: 0.0046 - val_loss: 0.0026\n",
      "Epoch 132/500\n",
      "296/296 [==============================] - 7s 22ms/step - loss: 0.0046 - val_loss: 0.0026\n",
      "Epoch 133/500\n",
      "294/296 [============================>.] - ETA: 0s - loss: 0.0046"
     ]
    },
    {
     "name": "stderr",
     "output_type": "stream",
     "text": [
      "WARNING:absl:Found untraced functions such as gru_cell_15_layer_call_fn, gru_cell_15_layer_call_and_return_conditional_losses, gru_cell_16_layer_call_fn, gru_cell_16_layer_call_and_return_conditional_losses, gru_cell_17_layer_call_fn while saving (showing 5 of 8). These functions will not be directly callable after loading.\n"
     ]
    },
    {
     "name": "stdout",
     "output_type": "stream",
     "text": [
      "INFO:tensorflow:Assets written to: model\\assets\n"
     ]
    },
    {
     "name": "stderr",
     "output_type": "stream",
     "text": [
      "INFO:tensorflow:Assets written to: model\\assets\n"
     ]
    },
    {
     "name": "stdout",
     "output_type": "stream",
     "text": [
      "296/296 [==============================] - 16s 54ms/step - loss: 0.0046 - val_loss: 0.0026\n",
      "Epoch 134/500\n",
      "296/296 [==============================] - 7s 22ms/step - loss: 0.0046 - val_loss: 0.0026\n",
      "Epoch 135/500\n",
      "296/296 [==============================] - 7s 22ms/step - loss: 0.0046 - val_loss: 0.0027\n",
      "Epoch 136/500\n",
      "296/296 [==============================] - 6s 22ms/step - loss: 0.0046 - val_loss: 0.0026\n",
      "Epoch 137/500\n",
      "296/296 [==============================] - 7s 22ms/step - loss: 0.0046 - val_loss: 0.0026\n",
      "Epoch 138/500\n",
      "296/296 [==============================] - 6s 22ms/step - loss: 0.0046 - val_loss: 0.0027\n",
      "Epoch 139/500\n",
      "296/296 [==============================] - 7s 22ms/step - loss: 0.0046 - val_loss: 0.0028\n",
      "Epoch 140/500\n",
      "296/296 [==============================] - 6s 21ms/step - loss: 0.0046 - val_loss: 0.0027\n",
      "Epoch 141/500\n",
      "296/296 [==============================] - 7s 22ms/step - loss: 0.0045 - val_loss: 0.0026\n",
      "Epoch 142/500\n",
      "296/296 [==============================] - 6s 22ms/step - loss: 0.0046 - val_loss: 0.0028\n",
      "Epoch 143/500\n",
      "296/296 [==============================] - 6s 22ms/step - loss: 0.0045 - val_loss: 0.0028\n",
      "Epoch 144/500\n",
      "296/296 [==============================] - 6s 21ms/step - loss: 0.0045 - val_loss: 0.0026\n",
      "Epoch 145/500\n",
      "296/296 [==============================] - 6s 21ms/step - loss: 0.0045 - val_loss: 0.0026\n",
      "Epoch 146/500\n",
      "296/296 [==============================] - 6s 22ms/step - loss: 0.0045 - val_loss: 0.0026\n",
      "Epoch 147/500\n",
      "296/296 [==============================] - 6s 21ms/step - loss: 0.0045 - val_loss: 0.0026\n",
      "Epoch 148/500\n",
      "296/296 [==============================] - 7s 22ms/step - loss: 0.0045 - val_loss: 0.0027\n",
      "Epoch 149/500\n",
      "296/296 [==============================] - 6s 20ms/step - loss: 0.0045 - val_loss: 0.0027\n",
      "Epoch 150/500\n",
      "296/296 [==============================] - 6s 21ms/step - loss: 0.0045 - val_loss: 0.0026\n",
      "Epoch 151/500\n",
      "296/296 [==============================] - 6s 21ms/step - loss: 0.0045 - val_loss: 0.0026\n",
      "Epoch 152/500\n",
      "296/296 [==============================] - 6s 21ms/step - loss: 0.0045 - val_loss: 0.0026\n",
      "Epoch 153/500\n",
      "296/296 [==============================] - 6s 21ms/step - loss: 0.0045 - val_loss: 0.0028\n",
      "Epoch 154/500\n",
      "296/296 [==============================] - 6s 22ms/step - loss: 0.0045 - val_loss: 0.0026\n",
      "Epoch 155/500\n",
      "296/296 [==============================] - 6s 21ms/step - loss: 0.0045 - val_loss: 0.0028\n",
      "Epoch 156/500\n",
      "296/296 [==============================] - 6s 22ms/step - loss: 0.0044 - val_loss: 0.0029\n",
      "Epoch 157/500\n",
      "296/296 [==============================] - 6s 21ms/step - loss: 0.0044 - val_loss: 0.0026\n",
      "Epoch 158/500\n",
      "296/296 [==============================] - 6s 20ms/step - loss: 0.0044 - val_loss: 0.0027\n",
      "Epoch 159/500\n",
      "296/296 [==============================] - 6s 20ms/step - loss: 0.0044 - val_loss: 0.0027\n",
      "Epoch 160/500\n",
      "296/296 [==============================] - 6s 19ms/step - loss: 0.0044 - val_loss: 0.0026\n",
      "Epoch 161/500\n",
      "296/296 [==============================] - 6s 19ms/step - loss: 0.0044 - val_loss: 0.0026\n",
      "Epoch 162/500\n",
      "296/296 [==============================] - 6s 20ms/step - loss: 0.0044 - val_loss: 0.0027\n",
      "Epoch 163/500\n",
      "296/296 [==============================] - 6s 19ms/step - loss: 0.0044 - val_loss: 0.0026\n",
      "Epoch 164/500\n",
      "296/296 [==============================] - 6s 20ms/step - loss: 0.0044 - val_loss: 0.0026\n",
      "Epoch 165/500\n",
      "296/296 [==============================] - 5s 18ms/step - loss: 0.0044 - val_loss: 0.0028\n",
      "Epoch 166/500\n",
      "296/296 [==============================] - 6s 19ms/step - loss: 0.0044 - val_loss: 0.0026\n",
      "Epoch 167/500\n",
      "296/296 [==============================] - 6s 20ms/step - loss: 0.0044 - val_loss: 0.0027\n",
      "Epoch 168/500\n",
      "296/296 [==============================] - 6s 19ms/step - loss: 0.0044 - val_loss: 0.0026\n",
      "Epoch 169/500\n",
      "296/296 [==============================] - 6s 20ms/step - loss: 0.0044 - val_loss: 0.0028\n",
      "Epoch 170/500\n",
      "296/296 [==============================] - 6s 19ms/step - loss: 0.0044 - val_loss: 0.0027\n",
      "Epoch 171/500\n",
      "296/296 [==============================] - 6s 20ms/step - loss: 0.0043 - val_loss: 0.0027\n",
      "Epoch 172/500\n",
      "296/296 [==============================] - 6s 20ms/step - loss: 0.0044 - val_loss: 0.0028\n",
      "Epoch 173/500\n",
      "296/296 [==============================] - 6s 20ms/step - loss: 0.0043 - val_loss: 0.0026\n",
      "Epoch 174/500\n",
      "296/296 [==============================] - 6s 20ms/step - loss: 0.0043 - val_loss: 0.0026\n",
      "Epoch 175/500\n",
      "296/296 [==============================] - 6s 20ms/step - loss: 0.0043 - val_loss: 0.0027\n",
      "Epoch 176/500\n",
      "296/296 [==============================] - 6s 20ms/step - loss: 0.0043 - val_loss: 0.0026\n",
      "Epoch 177/500\n",
      "296/296 [==============================] - 6s 20ms/step - loss: 0.0043 - val_loss: 0.0026\n",
      "Epoch 178/500\n",
      "296/296 [==============================] - 6s 21ms/step - loss: 0.0043 - val_loss: 0.0028\n",
      "Epoch 179/500\n",
      "296/296 [==============================] - 6s 21ms/step - loss: 0.0043 - val_loss: 0.0026\n",
      "Epoch 180/500\n",
      "296/296 [==============================] - 6s 20ms/step - loss: 0.0043 - val_loss: 0.0027\n",
      "Epoch 181/500\n",
      "296/296 [==============================] - 6s 20ms/step - loss: 0.0043 - val_loss: 0.0026\n",
      "Epoch 182/500\n",
      "296/296 [==============================] - 5s 18ms/step - loss: 0.0043 - val_loss: 0.0026\n",
      "Epoch 183/500\n",
      "296/296 [==============================] - 6s 20ms/step - loss: 0.0043 - val_loss: 0.0026\n",
      "Epoch 184/500\n",
      "296/296 [==============================] - 6s 20ms/step - loss: 0.0043 - val_loss: 0.0026\n",
      "Epoch 185/500\n",
      "296/296 [==============================] - 6s 21ms/step - loss: 0.0043 - val_loss: 0.0027\n",
      "Epoch 186/500\n",
      "296/296 [==============================] - 6s 21ms/step - loss: 0.0043 - val_loss: 0.0026\n",
      "Epoch 187/500\n",
      "296/296 [==============================] - 6s 21ms/step - loss: 0.0042 - val_loss: 0.0026\n",
      "Epoch 188/500\n",
      "296/296 [==============================] - 6s 19ms/step - loss: 0.0042 - val_loss: 0.0026\n",
      "Epoch 189/500\n",
      "296/296 [==============================] - 6s 19ms/step - loss: 0.0042 - val_loss: 0.0027\n",
      "Epoch 190/500\n",
      "296/296 [==============================] - 6s 19ms/step - loss: 0.0042 - val_loss: 0.0027\n",
      "Epoch 191/500\n",
      "296/296 [==============================] - 6s 19ms/step - loss: 0.0042 - val_loss: 0.0028\n",
      "Epoch 192/500\n",
      "296/296 [==============================] - 6s 19ms/step - loss: 0.0042 - val_loss: 0.0030\n",
      "Epoch 193/500\n",
      "296/296 [==============================] - 6s 19ms/step - loss: 0.0042 - val_loss: 0.0028\n",
      "Epoch 194/500\n",
      "296/296 [==============================] - 6s 19ms/step - loss: 0.0042 - val_loss: 0.0027\n",
      "Epoch 195/500\n",
      "296/296 [==============================] - 6s 20ms/step - loss: 0.0042 - val_loss: 0.0027\n",
      "Epoch 196/500\n",
      "296/296 [==============================] - 5s 18ms/step - loss: 0.0042 - val_loss: 0.0027\n",
      "Epoch 197/500\n",
      "296/296 [==============================] - 6s 20ms/step - loss: 0.0042 - val_loss: 0.0027\n",
      "Epoch 198/500\n",
      "296/296 [==============================] - 6s 19ms/step - loss: 0.0042 - val_loss: 0.0026\n",
      "Epoch 199/500\n",
      "296/296 [==============================] - 6s 20ms/step - loss: 0.0042 - val_loss: 0.0027\n",
      "Epoch 200/500\n",
      "296/296 [==============================] - 6s 20ms/step - loss: 0.0042 - val_loss: 0.0027\n",
      "Epoch 201/500\n",
      "296/296 [==============================] - 6s 20ms/step - loss: 0.0042 - val_loss: 0.0026\n",
      "Epoch 202/500\n",
      "296/296 [==============================] - 6s 20ms/step - loss: 0.0041 - val_loss: 0.0026\n",
      "Epoch 203/500\n",
      "296/296 [==============================] - 6s 21ms/step - loss: 0.0041 - val_loss: 0.0027\n",
      "Epoch 204/500\n",
      "296/296 [==============================] - 6s 20ms/step - loss: 0.0041 - val_loss: 0.0026\n",
      "Epoch 205/500\n",
      "296/296 [==============================] - 6s 20ms/step - loss: 0.0041 - val_loss: 0.0026\n",
      "Epoch 206/500\n",
      "296/296 [==============================] - 6s 19ms/step - loss: 0.0041 - val_loss: 0.0027\n",
      "Epoch 207/500\n",
      "296/296 [==============================] - 6s 20ms/step - loss: 0.0041 - val_loss: 0.0026\n",
      "Epoch 208/500\n",
      "296/296 [==============================] - 6s 19ms/step - loss: 0.0041 - val_loss: 0.0027\n",
      "Epoch 209/500\n",
      "296/296 [==============================] - 5s 19ms/step - loss: 0.0041 - val_loss: 0.0026\n",
      "Epoch 210/500\n",
      "296/296 [==============================] - 6s 19ms/step - loss: 0.0041 - val_loss: 0.0027\n",
      "Epoch 211/500\n",
      "296/296 [==============================] - 6s 20ms/step - loss: 0.0041 - val_loss: 0.0027\n"
     ]
    },
    {
     "name": "stdout",
     "output_type": "stream",
     "text": [
      "Epoch 212/500\n",
      "296/296 [==============================] - 6s 21ms/step - loss: 0.0041 - val_loss: 0.0027\n",
      "Epoch 213/500\n",
      "296/296 [==============================] - 6s 20ms/step - loss: 0.0041 - val_loss: 0.0027\n",
      "Epoch 214/500\n",
      "296/296 [==============================] - 6s 21ms/step - loss: 0.0041 - val_loss: 0.0026\n",
      "Epoch 215/500\n",
      "296/296 [==============================] - 6s 20ms/step - loss: 0.0040 - val_loss: 0.0026\n",
      "Epoch 216/500\n",
      "296/296 [==============================] - 6s 21ms/step - loss: 0.0041 - val_loss: 0.0027\n",
      "Epoch 217/500\n",
      "296/296 [==============================] - 6s 20ms/step - loss: 0.0041 - val_loss: 0.0027\n",
      "Epoch 218/500\n",
      "296/296 [==============================] - 6s 20ms/step - loss: 0.0040 - val_loss: 0.0027\n",
      "Epoch 219/500\n",
      "296/296 [==============================] - 6s 20ms/step - loss: 0.0040 - val_loss: 0.0027\n",
      "Epoch 220/500\n",
      "296/296 [==============================] - 6s 20ms/step - loss: 0.0040 - val_loss: 0.0027\n",
      "Epoch 221/500\n",
      "296/296 [==============================] - 6s 21ms/step - loss: 0.0040 - val_loss: 0.0026\n",
      "Epoch 222/500\n",
      "296/296 [==============================] - 6s 20ms/step - loss: 0.0040 - val_loss: 0.0027\n",
      "Epoch 223/500\n",
      "296/296 [==============================] - 6s 20ms/step - loss: 0.0040 - val_loss: 0.0028\n",
      "Epoch 224/500\n",
      "296/296 [==============================] - 6s 20ms/step - loss: 0.0040 - val_loss: 0.0028\n",
      "Epoch 225/500\n",
      "296/296 [==============================] - 6s 20ms/step - loss: 0.0040 - val_loss: 0.0028\n",
      "Epoch 226/500\n",
      "296/296 [==============================] - 6s 20ms/step - loss: 0.0040 - val_loss: 0.0027\n",
      "Epoch 227/500\n",
      "296/296 [==============================] - 6s 19ms/step - loss: 0.0040 - val_loss: 0.0027\n",
      "Epoch 228/500\n",
      "296/296 [==============================] - 6s 21ms/step - loss: 0.0040 - val_loss: 0.0027\n",
      "Epoch 229/500\n",
      "296/296 [==============================] - 6s 20ms/step - loss: 0.0040 - val_loss: 0.0027\n",
      "Epoch 230/500\n",
      "296/296 [==============================] - 6s 20ms/step - loss: 0.0040 - val_loss: 0.0028\n",
      "Epoch 231/500\n",
      "296/296 [==============================] - 6s 20ms/step - loss: 0.0040 - val_loss: 0.0027\n",
      "Epoch 232/500\n",
      "296/296 [==============================] - 6s 20ms/step - loss: 0.0039 - val_loss: 0.0027\n",
      "Epoch 233/500\n",
      "296/296 [==============================] - 5s 18ms/step - loss: 0.0039 - val_loss: 0.0027\n",
      "Epoch 234/500\n",
      "296/296 [==============================] - 6s 19ms/step - loss: 0.0039 - val_loss: 0.0027\n",
      "Epoch 235/500\n",
      "296/296 [==============================] - 6s 20ms/step - loss: 0.0039 - val_loss: 0.0027\n",
      "Epoch 236/500\n",
      "296/296 [==============================] - 6s 21ms/step - loss: 0.0039 - val_loss: 0.0027\n",
      "Epoch 237/500\n",
      "296/296 [==============================] - 6s 21ms/step - loss: 0.0039 - val_loss: 0.0026\n",
      "Epoch 238/500\n",
      "296/296 [==============================] - 6s 21ms/step - loss: 0.0039 - val_loss: 0.0027\n",
      "Epoch 239/500\n",
      "296/296 [==============================] - 6s 20ms/step - loss: 0.0039 - val_loss: 0.0027\n",
      "Epoch 240/500\n",
      "296/296 [==============================] - 6s 20ms/step - loss: 0.0039 - val_loss: 0.0026\n",
      "Epoch 241/500\n",
      "296/296 [==============================] - 6s 20ms/step - loss: 0.0039 - val_loss: 0.0027\n",
      "Epoch 242/500\n",
      "296/296 [==============================] - 6s 20ms/step - loss: 0.0039 - val_loss: 0.0028\n",
      "Epoch 243/500\n",
      "296/296 [==============================] - 6s 20ms/step - loss: 0.0039 - val_loss: 0.0027\n",
      "Epoch 244/500\n",
      "296/296 [==============================] - 6s 20ms/step - loss: 0.0039 - val_loss: 0.0026\n",
      "Epoch 245/500\n",
      "296/296 [==============================] - 6s 21ms/step - loss: 0.0039 - val_loss: 0.0027\n",
      "Epoch 246/500\n",
      "296/296 [==============================] - 5s 18ms/step - loss: 0.0038 - val_loss: 0.0027\n",
      "Epoch 247/500\n",
      "296/296 [==============================] - 5s 18ms/step - loss: 0.0038 - val_loss: 0.0027\n",
      "Epoch 248/500\n",
      "296/296 [==============================] - 6s 20ms/step - loss: 0.0038 - val_loss: 0.0027\n",
      "Epoch 249/500\n",
      "296/296 [==============================] - 6s 19ms/step - loss: 0.0038 - val_loss: 0.0028\n",
      "Epoch 250/500\n",
      "296/296 [==============================] - 6s 19ms/step - loss: 0.0038 - val_loss: 0.0028\n",
      "Epoch 251/500\n",
      "296/296 [==============================] - 6s 20ms/step - loss: 0.0038 - val_loss: 0.0028\n",
      "Epoch 252/500\n",
      "296/296 [==============================] - 6s 19ms/step - loss: 0.0038 - val_loss: 0.0027\n",
      "Epoch 253/500\n",
      "296/296 [==============================] - 6s 20ms/step - loss: 0.0038 - val_loss: 0.0028\n",
      "Epoch 254/500\n",
      "296/296 [==============================] - 6s 20ms/step - loss: 0.0038 - val_loss: 0.0029\n",
      "Epoch 255/500\n",
      "296/296 [==============================] - 6s 20ms/step - loss: 0.0038 - val_loss: 0.0027\n",
      "Epoch 256/500\n",
      "296/296 [==============================] - 6s 20ms/step - loss: 0.0038 - val_loss: 0.0027\n",
      "Epoch 257/500\n",
      "296/296 [==============================] - 6s 20ms/step - loss: 0.0038 - val_loss: 0.0027\n",
      "Epoch 258/500\n",
      "296/296 [==============================] - 6s 19ms/step - loss: 0.0037 - val_loss: 0.0027\n",
      "Epoch 259/500\n",
      "296/296 [==============================] - 6s 20ms/step - loss: 0.0038 - val_loss: 0.0027\n",
      "Epoch 260/500\n",
      "296/296 [==============================] - 6s 20ms/step - loss: 0.0038 - val_loss: 0.0028\n",
      "Epoch 261/500\n",
      "296/296 [==============================] - 5s 18ms/step - loss: 0.0038 - val_loss: 0.0027\n",
      "Epoch 262/500\n",
      "296/296 [==============================] - 5s 15ms/step - loss: 0.0037 - val_loss: 0.0029\n",
      "Epoch 263/500\n",
      "296/296 [==============================] - 5s 16ms/step - loss: 0.0037 - val_loss: 0.0027\n",
      "Epoch 264/500\n",
      "296/296 [==============================] - 6s 19ms/step - loss: 0.0037 - val_loss: 0.0028\n",
      "Epoch 265/500\n",
      "296/296 [==============================] - 6s 19ms/step - loss: 0.0037 - val_loss: 0.0027\n",
      "Epoch 266/500\n",
      "296/296 [==============================] - 6s 20ms/step - loss: 0.0037 - val_loss: 0.0027\n",
      "Epoch 267/500\n",
      "296/296 [==============================] - 6s 20ms/step - loss: 0.0037 - val_loss: 0.0027\n",
      "Epoch 268/500\n",
      "296/296 [==============================] - 6s 20ms/step - loss: 0.0037 - val_loss: 0.0028\n",
      "Epoch 269/500\n",
      "296/296 [==============================] - 6s 20ms/step - loss: 0.0037 - val_loss: 0.0027\n",
      "Epoch 270/500\n",
      "296/296 [==============================] - 6s 20ms/step - loss: 0.0037 - val_loss: 0.0028\n",
      "Epoch 271/500\n",
      "296/296 [==============================] - 6s 20ms/step - loss: 0.0037 - val_loss: 0.0027\n",
      "Epoch 272/500\n",
      "296/296 [==============================] - 6s 20ms/step - loss: 0.0037 - val_loss: 0.0027\n",
      "Epoch 273/500\n",
      "296/296 [==============================] - 6s 20ms/step - loss: 0.0037 - val_loss: 0.0027\n",
      "Epoch 274/500\n",
      "296/296 [==============================] - 6s 20ms/step - loss: 0.0036 - val_loss: 0.0029\n",
      "Epoch 275/500\n",
      "296/296 [==============================] - 6s 20ms/step - loss: 0.0036 - val_loss: 0.0027\n",
      "Epoch 276/500\n",
      "296/296 [==============================] - 6s 20ms/step - loss: 0.0036 - val_loss: 0.0027\n",
      "Epoch 277/500\n",
      "296/296 [==============================] - 6s 20ms/step - loss: 0.0036 - val_loss: 0.0027\n",
      "Epoch 278/500\n",
      "296/296 [==============================] - 6s 20ms/step - loss: 0.0036 - val_loss: 0.0027\n",
      "Epoch 279/500\n",
      "296/296 [==============================] - 6s 20ms/step - loss: 0.0036 - val_loss: 0.0027\n",
      "Epoch 280/500\n",
      "296/296 [==============================] - 6s 20ms/step - loss: 0.0036 - val_loss: 0.0028\n",
      "Epoch 281/500\n",
      "296/296 [==============================] - 6s 19ms/step - loss: 0.0036 - val_loss: 0.0029\n",
      "Epoch 282/500\n",
      "296/296 [==============================] - 6s 19ms/step - loss: 0.0036 - val_loss: 0.0027\n",
      "Epoch 283/500\n",
      "296/296 [==============================] - 6s 19ms/step - loss: 0.0036 - val_loss: 0.0028\n",
      "Epoch 284/500\n",
      "296/296 [==============================] - 6s 20ms/step - loss: 0.0036 - val_loss: 0.0027\n",
      "Epoch 285/500\n",
      "296/296 [==============================] - 5s 18ms/step - loss: 0.0036 - val_loss: 0.0028\n",
      "Epoch 286/500\n",
      "296/296 [==============================] - 5s 18ms/step - loss: 0.0036 - val_loss: 0.0027\n",
      "Epoch 287/500\n",
      "296/296 [==============================] - 6s 19ms/step - loss: 0.0036 - val_loss: 0.0027\n",
      "Epoch 288/500\n",
      "296/296 [==============================] - 6s 19ms/step - loss: 0.0036 - val_loss: 0.0028\n",
      "Epoch 289/500\n",
      "296/296 [==============================] - 6s 19ms/step - loss: 0.0035 - val_loss: 0.0028\n",
      "Epoch 290/500\n",
      "296/296 [==============================] - 6s 20ms/step - loss: 0.0035 - val_loss: 0.0028\n"
     ]
    },
    {
     "name": "stdout",
     "output_type": "stream",
     "text": [
      "Epoch 291/500\n",
      "296/296 [==============================] - 6s 21ms/step - loss: 0.0035 - val_loss: 0.0027\n",
      "Epoch 292/500\n",
      "296/296 [==============================] - 6s 21ms/step - loss: 0.0035 - val_loss: 0.0028\n",
      "Epoch 293/500\n",
      "296/296 [==============================] - 6s 20ms/step - loss: 0.0035 - val_loss: 0.0027\n",
      "Epoch 294/500\n",
      "296/296 [==============================] - 6s 20ms/step - loss: 0.0035 - val_loss: 0.0028\n",
      "Epoch 295/500\n",
      "296/296 [==============================] - 6s 21ms/step - loss: 0.0035 - val_loss: 0.0027\n",
      "Epoch 296/500\n",
      "296/296 [==============================] - 6s 21ms/step - loss: 0.0035 - val_loss: 0.0028\n",
      "Epoch 297/500\n",
      "296/296 [==============================] - 6s 20ms/step - loss: 0.0035 - val_loss: 0.0028\n",
      "Epoch 298/500\n",
      "296/296 [==============================] - 6s 19ms/step - loss: 0.0035 - val_loss: 0.0028\n",
      "Epoch 299/500\n",
      "296/296 [==============================] - 6s 19ms/step - loss: 0.0035 - val_loss: 0.0028\n",
      "Epoch 300/500\n",
      "296/296 [==============================] - 5s 18ms/step - loss: 0.0035 - val_loss: 0.0028\n",
      "Epoch 301/500\n",
      "296/296 [==============================] - 6s 19ms/step - loss: 0.0035 - val_loss: 0.0028\n",
      "Epoch 302/500\n",
      "296/296 [==============================] - 6s 21ms/step - loss: 0.0035 - val_loss: 0.0028\n",
      "Epoch 303/500\n",
      "296/296 [==============================] - 6s 21ms/step - loss: 0.0034 - val_loss: 0.0029\n",
      "Epoch 304/500\n",
      "296/296 [==============================] - 6s 21ms/step - loss: 0.0035 - val_loss: 0.0028\n",
      "Epoch 305/500\n",
      "296/296 [==============================] - 6s 21ms/step - loss: 0.0034 - val_loss: 0.0028\n",
      "Epoch 306/500\n",
      "296/296 [==============================] - 7s 22ms/step - loss: 0.0034 - val_loss: 0.0028\n",
      "Epoch 307/500\n",
      "296/296 [==============================] - 6s 22ms/step - loss: 0.0034 - val_loss: 0.0029\n",
      "Epoch 308/500\n",
      "296/296 [==============================] - 6s 21ms/step - loss: 0.0034 - val_loss: 0.0028\n",
      "Epoch 309/500\n",
      "296/296 [==============================] - 6s 21ms/step - loss: 0.0034 - val_loss: 0.0029\n",
      "Epoch 310/500\n",
      "296/296 [==============================] - 7s 22ms/step - loss: 0.0034 - val_loss: 0.0027\n",
      "Epoch 311/500\n",
      "296/296 [==============================] - 7s 22ms/step - loss: 0.0034 - val_loss: 0.0028\n",
      "Epoch 312/500\n",
      "296/296 [==============================] - 6s 21ms/step - loss: 0.0034 - val_loss: 0.0029\n",
      "Epoch 313/500\n",
      "296/296 [==============================] - 6s 20ms/step - loss: 0.0034 - val_loss: 0.0028\n",
      "Epoch 314/500\n",
      "296/296 [==============================] - 6s 21ms/step - loss: 0.0034 - val_loss: 0.0028\n",
      "Epoch 315/500\n",
      "296/296 [==============================] - 6s 21ms/step - loss: 0.0034 - val_loss: 0.0029\n",
      "Epoch 316/500\n",
      "296/296 [==============================] - 6s 21ms/step - loss: 0.0034 - val_loss: 0.0030\n",
      "Epoch 317/500\n",
      "296/296 [==============================] - 6s 21ms/step - loss: 0.0033 - val_loss: 0.0029\n",
      "Epoch 318/500\n",
      "296/296 [==============================] - 6s 20ms/step - loss: 0.0033 - val_loss: 0.0027\n",
      "Epoch 319/500\n",
      "296/296 [==============================] - 6s 21ms/step - loss: 0.0033 - val_loss: 0.0029\n",
      "Epoch 320/500\n",
      "296/296 [==============================] - 6s 20ms/step - loss: 0.0033 - val_loss: 0.0029\n",
      "Epoch 321/500\n",
      "296/296 [==============================] - 6s 20ms/step - loss: 0.0033 - val_loss: 0.0028\n",
      "Epoch 322/500\n",
      "296/296 [==============================] - 6s 21ms/step - loss: 0.0033 - val_loss: 0.0029\n",
      "Epoch 323/500\n",
      "296/296 [==============================] - 6s 20ms/step - loss: 0.0033 - val_loss: 0.0029\n",
      "Epoch 324/500\n",
      "296/296 [==============================] - 6s 19ms/step - loss: 0.0033 - val_loss: 0.0029\n",
      "Epoch 325/500\n",
      "296/296 [==============================] - 6s 20ms/step - loss: 0.0033 - val_loss: 0.0028\n",
      "Epoch 326/500\n",
      "296/296 [==============================] - 6s 20ms/step - loss: 0.0033 - val_loss: 0.0029\n",
      "Epoch 327/500\n",
      "296/296 [==============================] - 6s 20ms/step - loss: 0.0033 - val_loss: 0.0028\n",
      "Epoch 328/500\n",
      "296/296 [==============================] - 6s 19ms/step - loss: 0.0033 - val_loss: 0.0028\n",
      "Epoch 329/500\n",
      "296/296 [==============================] - 6s 19ms/step - loss: 0.0033 - val_loss: 0.0029\n",
      "Epoch 330/500\n",
      "296/296 [==============================] - 6s 21ms/step - loss: 0.0033 - val_loss: 0.0028\n",
      "Epoch 331/500\n",
      "296/296 [==============================] - 6s 20ms/step - loss: 0.0032 - val_loss: 0.0028\n",
      "Epoch 332/500\n",
      "296/296 [==============================] - 6s 21ms/step - loss: 0.0032 - val_loss: 0.0029\n",
      "Epoch 333/500\n",
      "296/296 [==============================] - 6s 21ms/step - loss: 0.0032 - val_loss: 0.0028\n",
      "Epoch 334/500\n",
      "296/296 [==============================] - 6s 21ms/step - loss: 0.0032 - val_loss: 0.0028\n",
      "Epoch 335/500\n",
      "296/296 [==============================] - 6s 20ms/step - loss: 0.0032 - val_loss: 0.0029\n",
      "Epoch 336/500\n",
      "296/296 [==============================] - 5s 18ms/step - loss: 0.0032 - val_loss: 0.0028\n",
      "Epoch 337/500\n",
      "296/296 [==============================] - 6s 21ms/step - loss: 0.0032 - val_loss: 0.0029\n",
      "Epoch 338/500\n",
      "296/296 [==============================] - 6s 21ms/step - loss: 0.0032 - val_loss: 0.0030\n",
      "Epoch 339/500\n",
      "296/296 [==============================] - 6s 20ms/step - loss: 0.0032 - val_loss: 0.0029\n",
      "Epoch 340/500\n",
      "296/296 [==============================] - 6s 20ms/step - loss: 0.0032 - val_loss: 0.0028\n",
      "Epoch 341/500\n",
      "296/296 [==============================] - 6s 21ms/step - loss: 0.0032 - val_loss: 0.0029\n",
      "Epoch 342/500\n",
      "296/296 [==============================] - 6s 21ms/step - loss: 0.0032 - val_loss: 0.0029\n",
      "Epoch 343/500\n",
      "296/296 [==============================] - 6s 19ms/step - loss: 0.0032 - val_loss: 0.0028\n",
      "Epoch 344/500\n",
      "296/296 [==============================] - 6s 19ms/step - loss: 0.0032 - val_loss: 0.0029\n",
      "Epoch 345/500\n",
      "296/296 [==============================] - 6s 20ms/step - loss: 0.0032 - val_loss: 0.0029\n",
      "Epoch 346/500\n",
      "296/296 [==============================] - 6s 20ms/step - loss: 0.0031 - val_loss: 0.0030\n",
      "Epoch 347/500\n",
      "296/296 [==============================] - 6s 20ms/step - loss: 0.0031 - val_loss: 0.0028\n",
      "Epoch 348/500\n",
      "296/296 [==============================] - 6s 20ms/step - loss: 0.0031 - val_loss: 0.0029\n",
      "Epoch 349/500\n",
      "296/296 [==============================] - 6s 21ms/step - loss: 0.0031 - val_loss: 0.0029\n",
      "Epoch 350/500\n",
      "296/296 [==============================] - 6s 19ms/step - loss: 0.0031 - val_loss: 0.0029\n",
      "Epoch 351/500\n",
      "296/296 [==============================] - 6s 19ms/step - loss: 0.0031 - val_loss: 0.0030\n",
      "Epoch 352/500\n",
      "296/296 [==============================] - 6s 19ms/step - loss: 0.0031 - val_loss: 0.0029\n",
      "Epoch 353/500\n",
      "296/296 [==============================] - 6s 19ms/step - loss: 0.0031 - val_loss: 0.0030\n",
      "Epoch 354/500\n",
      "296/296 [==============================] - 6s 19ms/step - loss: 0.0031 - val_loss: 0.0029\n",
      "Epoch 355/500\n",
      "296/296 [==============================] - 6s 19ms/step - loss: 0.0031 - val_loss: 0.0029\n",
      "Epoch 356/500\n",
      "296/296 [==============================] - 6s 19ms/step - loss: 0.0031 - val_loss: 0.0030\n",
      "Epoch 357/500\n",
      "296/296 [==============================] - 6s 19ms/step - loss: 0.0031 - val_loss: 0.0029\n",
      "Epoch 358/500\n",
      "296/296 [==============================] - 6s 20ms/step - loss: 0.0031 - val_loss: 0.0030\n",
      "Epoch 359/500\n",
      "296/296 [==============================] - 6s 19ms/step - loss: 0.0030 - val_loss: 0.0030\n",
      "Epoch 360/500\n",
      "296/296 [==============================] - 5s 18ms/step - loss: 0.0030 - val_loss: 0.0029\n",
      "Epoch 361/500\n",
      "296/296 [==============================] - 6s 19ms/step - loss: 0.0031 - val_loss: 0.0029\n",
      "Epoch 362/500\n",
      "296/296 [==============================] - 6s 19ms/step - loss: 0.0030 - val_loss: 0.0029\n",
      "Epoch 363/500\n",
      "296/296 [==============================] - 6s 19ms/step - loss: 0.0030 - val_loss: 0.0029\n",
      "Epoch 364/500\n",
      "296/296 [==============================] - 6s 19ms/step - loss: 0.0030 - val_loss: 0.0029\n",
      "Epoch 365/500\n",
      "296/296 [==============================] - 6s 19ms/step - loss: 0.0030 - val_loss: 0.0029\n",
      "Epoch 366/500\n",
      "296/296 [==============================] - 6s 19ms/step - loss: 0.0030 - val_loss: 0.0031\n",
      "Epoch 367/500\n",
      "296/296 [==============================] - 6s 19ms/step - loss: 0.0030 - val_loss: 0.0032\n",
      "Epoch 368/500\n",
      "296/296 [==============================] - 6s 19ms/step - loss: 0.0030 - val_loss: 0.0030\n",
      "Epoch 369/500\n",
      "296/296 [==============================] - 6s 19ms/step - loss: 0.0030 - val_loss: 0.0030\n"
     ]
    },
    {
     "name": "stdout",
     "output_type": "stream",
     "text": [
      "Epoch 370/500\n",
      "296/296 [==============================] - 6s 20ms/step - loss: 0.0030 - val_loss: 0.0032\n",
      "Epoch 371/500\n",
      "296/296 [==============================] - 6s 20ms/step - loss: 0.0030 - val_loss: 0.0029\n",
      "Epoch 372/500\n",
      "296/296 [==============================] - 6s 20ms/step - loss: 0.0030 - val_loss: 0.0030\n",
      "Epoch 373/500\n",
      "296/296 [==============================] - 6s 20ms/step - loss: 0.0030 - val_loss: 0.0029\n",
      "Epoch 374/500\n",
      "296/296 [==============================] - 6s 21ms/step - loss: 0.0030 - val_loss: 0.0029\n",
      "Epoch 375/500\n",
      "296/296 [==============================] - 6s 21ms/step - loss: 0.0029 - val_loss: 0.0030\n",
      "Epoch 376/500\n",
      "296/296 [==============================] - 6s 22ms/step - loss: 0.0029 - val_loss: 0.0030\n",
      "Epoch 377/500\n",
      "296/296 [==============================] - 6s 21ms/step - loss: 0.0029 - val_loss: 0.0031\n",
      "Epoch 378/500\n",
      "296/296 [==============================] - 6s 21ms/step - loss: 0.0029 - val_loss: 0.0030\n",
      "Epoch 379/500\n",
      "296/296 [==============================] - 6s 21ms/step - loss: 0.0029 - val_loss: 0.0030\n",
      "Epoch 380/500\n",
      "296/296 [==============================] - 6s 21ms/step - loss: 0.0029 - val_loss: 0.0031\n",
      "Epoch 381/500\n",
      "296/296 [==============================] - 6s 21ms/step - loss: 0.0029 - val_loss: 0.0030\n",
      "Epoch 382/500\n",
      "296/296 [==============================] - 6s 21ms/step - loss: 0.0029 - val_loss: 0.0032\n",
      "Epoch 383/500\n",
      "296/296 [==============================] - 6s 21ms/step - loss: 0.0029 - val_loss: 0.0030\n",
      "Epoch 384/500\n",
      "296/296 [==============================] - 6s 19ms/step - loss: 0.0029 - val_loss: 0.0030\n",
      "Epoch 385/500\n",
      "296/296 [==============================] - 5s 18ms/step - loss: 0.0029 - val_loss: 0.0030\n",
      "Epoch 386/500\n",
      "296/296 [==============================] - 5s 18ms/step - loss: 0.0029 - val_loss: 0.0029\n",
      "Epoch 387/500\n",
      "296/296 [==============================] - 5s 17ms/step - loss: 0.0029 - val_loss: 0.0030\n",
      "Epoch 388/500\n",
      "296/296 [==============================] - 5s 18ms/step - loss: 0.0029 - val_loss: 0.0029\n",
      "Epoch 389/500\n",
      "296/296 [==============================] - 5s 18ms/step - loss: 0.0029 - val_loss: 0.0031\n",
      "Epoch 390/500\n",
      "296/296 [==============================] - 6s 20ms/step - loss: 0.0028 - val_loss: 0.0032\n",
      "Epoch 391/500\n",
      "296/296 [==============================] - 6s 20ms/step - loss: 0.0028 - val_loss: 0.0030\n",
      "Epoch 392/500\n",
      "296/296 [==============================] - 6s 19ms/step - loss: 0.0028 - val_loss: 0.0030\n",
      "Epoch 393/500\n",
      "296/296 [==============================] - 6s 19ms/step - loss: 0.0028 - val_loss: 0.0031\n",
      "Epoch 394/500\n",
      "296/296 [==============================] - 5s 18ms/step - loss: 0.0028 - val_loss: 0.0031\n",
      "Epoch 395/500\n",
      "296/296 [==============================] - 6s 19ms/step - loss: 0.0028 - val_loss: 0.0030\n",
      "Epoch 396/500\n",
      "296/296 [==============================] - 5s 18ms/step - loss: 0.0028 - val_loss: 0.0031\n",
      "Epoch 397/500\n",
      "296/296 [==============================] - 5s 18ms/step - loss: 0.0028 - val_loss: 0.0031\n",
      "Epoch 398/500\n",
      "296/296 [==============================] - 5s 18ms/step - loss: 0.0028 - val_loss: 0.0030\n",
      "Epoch 399/500\n",
      "296/296 [==============================] - 5s 18ms/step - loss: 0.0028 - val_loss: 0.0030\n",
      "Epoch 400/500\n",
      "296/296 [==============================] - 5s 18ms/step - loss: 0.0028 - val_loss: 0.0031\n",
      "Epoch 401/500\n",
      "296/296 [==============================] - 5s 18ms/step - loss: 0.0028 - val_loss: 0.0031\n",
      "Epoch 402/500\n",
      "296/296 [==============================] - 5s 18ms/step - loss: 0.0028 - val_loss: 0.0030\n",
      "Epoch 403/500\n",
      "296/296 [==============================] - 6s 19ms/step - loss: 0.0028 - val_loss: 0.0031\n",
      "Epoch 404/500\n",
      "296/296 [==============================] - 5s 18ms/step - loss: 0.0028 - val_loss: 0.0031\n",
      "Epoch 405/500\n",
      "296/296 [==============================] - 5s 18ms/step - loss: 0.0028 - val_loss: 0.0032\n",
      "Epoch 406/500\n",
      "296/296 [==============================] - 5s 18ms/step - loss: 0.0028 - val_loss: 0.0031\n",
      "Epoch 407/500\n",
      "296/296 [==============================] - 6s 20ms/step - loss: 0.0027 - val_loss: 0.0031\n",
      "Epoch 408/500\n",
      "296/296 [==============================] - 6s 19ms/step - loss: 0.0027 - val_loss: 0.0035\n",
      "Epoch 409/500\n",
      "296/296 [==============================] - 6s 19ms/step - loss: 0.0027 - val_loss: 0.0032\n",
      "Epoch 410/500\n",
      "296/296 [==============================] - 5s 18ms/step - loss: 0.0027 - val_loss: 0.0031\n",
      "Epoch 411/500\n",
      "296/296 [==============================] - 5s 19ms/step - loss: 0.0027 - val_loss: 0.0032\n",
      "Epoch 412/500\n",
      "296/296 [==============================] - 6s 20ms/step - loss: 0.0027 - val_loss: 0.0031\n",
      "Epoch 413/500\n",
      "296/296 [==============================] - 6s 21ms/step - loss: 0.0027 - val_loss: 0.0031\n",
      "Epoch 414/500\n",
      "296/296 [==============================] - 6s 20ms/step - loss: 0.0027 - val_loss: 0.0031\n",
      "Epoch 415/500\n",
      "296/296 [==============================] - 5s 18ms/step - loss: 0.0027 - val_loss: 0.0031\n",
      "Epoch 416/500\n",
      "296/296 [==============================] - 6s 20ms/step - loss: 0.0027 - val_loss: 0.0031\n",
      "Epoch 417/500\n",
      "296/296 [==============================] - 6s 20ms/step - loss: 0.0027 - val_loss: 0.0031\n",
      "Epoch 418/500\n",
      "296/296 [==============================] - 6s 20ms/step - loss: 0.0027 - val_loss: 0.0031\n",
      "Epoch 419/500\n",
      "296/296 [==============================] - 6s 20ms/step - loss: 0.0026 - val_loss: 0.0031\n",
      "Epoch 420/500\n",
      "296/296 [==============================] - 6s 20ms/step - loss: 0.0027 - val_loss: 0.0032\n",
      "Epoch 421/500\n",
      "296/296 [==============================] - 6s 20ms/step - loss: 0.0026 - val_loss: 0.0032\n",
      "Epoch 422/500\n",
      "296/296 [==============================] - 6s 19ms/step - loss: 0.0026 - val_loss: 0.0031\n",
      "Epoch 423/500\n",
      "296/296 [==============================] - 6s 19ms/step - loss: 0.0026 - val_loss: 0.0033\n",
      "Epoch 424/500\n",
      "296/296 [==============================] - 6s 20ms/step - loss: 0.0026 - val_loss: 0.0033\n",
      "Epoch 425/500\n",
      "296/296 [==============================] - 6s 20ms/step - loss: 0.0026 - val_loss: 0.0032\n",
      "Epoch 426/500\n",
      "296/296 [==============================] - 6s 21ms/step - loss: 0.0026 - val_loss: 0.0033\n",
      "Epoch 427/500\n",
      "296/296 [==============================] - 6s 21ms/step - loss: 0.0026 - val_loss: 0.0031\n",
      "Epoch 428/500\n",
      "296/296 [==============================] - 6s 20ms/step - loss: 0.0026 - val_loss: 0.0032\n",
      "Epoch 429/500\n",
      "296/296 [==============================] - 6s 21ms/step - loss: 0.0026 - val_loss: 0.0032\n",
      "Epoch 430/500\n",
      "296/296 [==============================] - 6s 21ms/step - loss: 0.0026 - val_loss: 0.0032\n",
      "Epoch 431/500\n",
      "296/296 [==============================] - 6s 21ms/step - loss: 0.0026 - val_loss: 0.0032\n",
      "Epoch 432/500\n",
      "296/296 [==============================] - 6s 21ms/step - loss: 0.0026 - val_loss: 0.0032\n",
      "Epoch 433/500\n",
      "296/296 [==============================] - 6s 20ms/step - loss: 0.0026 - val_loss: 0.0032\n",
      "Epoch 434/500\n",
      "296/296 [==============================] - 6s 21ms/step - loss: 0.0026 - val_loss: 0.0032\n",
      "Epoch 435/500\n",
      "296/296 [==============================] - 6s 20ms/step - loss: 0.0026 - val_loss: 0.0032\n",
      "Epoch 436/500\n",
      "296/296 [==============================] - 6s 21ms/step - loss: 0.0025 - val_loss: 0.0033\n",
      "Epoch 437/500\n",
      "296/296 [==============================] - 6s 21ms/step - loss: 0.0025 - val_loss: 0.0032\n",
      "Epoch 438/500\n",
      "296/296 [==============================] - 6s 21ms/step - loss: 0.0025 - val_loss: 0.0033\n",
      "Epoch 439/500\n",
      "296/296 [==============================] - 6s 20ms/step - loss: 0.0025 - val_loss: 0.0033\n",
      "Epoch 440/500\n",
      "296/296 [==============================] - 5s 19ms/step - loss: 0.0025 - val_loss: 0.0032\n",
      "Epoch 441/500\n",
      "296/296 [==============================] - 6s 20ms/step - loss: 0.0025 - val_loss: 0.0033\n",
      "Epoch 442/500\n",
      "296/296 [==============================] - 6s 20ms/step - loss: 0.0025 - val_loss: 0.0032\n",
      "Epoch 443/500\n",
      "296/296 [==============================] - 6s 19ms/step - loss: 0.0025 - val_loss: 0.0032\n",
      "Epoch 444/500\n",
      "296/296 [==============================] - 6s 20ms/step - loss: 0.0025 - val_loss: 0.0032\n",
      "Epoch 445/500\n",
      "296/296 [==============================] - 6s 19ms/step - loss: 0.0025 - val_loss: 0.0034\n",
      "Epoch 446/500\n",
      "296/296 [==============================] - 6s 20ms/step - loss: 0.0025 - val_loss: 0.0033\n",
      "Epoch 447/500\n",
      "296/296 [==============================] - 6s 20ms/step - loss: 0.0025 - val_loss: 0.0032\n",
      "Epoch 448/500\n",
      "296/296 [==============================] - 6s 19ms/step - loss: 0.0025 - val_loss: 0.0032\n"
     ]
    },
    {
     "name": "stdout",
     "output_type": "stream",
     "text": [
      "Epoch 449/500\n",
      "296/296 [==============================] - 6s 20ms/step - loss: 0.0024 - val_loss: 0.0033\n",
      "Epoch 450/500\n",
      "296/296 [==============================] - 6s 21ms/step - loss: 0.0025 - val_loss: 0.0032\n",
      "Epoch 451/500\n",
      "296/296 [==============================] - 6s 21ms/step - loss: 0.0025 - val_loss: 0.0034\n",
      "Epoch 452/500\n",
      "296/296 [==============================] - 6s 21ms/step - loss: 0.0024 - val_loss: 0.0032\n",
      "Epoch 453/500\n",
      "296/296 [==============================] - 6s 21ms/step - loss: 0.0024 - val_loss: 0.0032\n",
      "Epoch 454/500\n",
      "296/296 [==============================] - 6s 21ms/step - loss: 0.0024 - val_loss: 0.0032\n",
      "Epoch 455/500\n",
      "296/296 [==============================] - 6s 21ms/step - loss: 0.0024 - val_loss: 0.0032\n",
      "Epoch 456/500\n",
      "296/296 [==============================] - 6s 21ms/step - loss: 0.0024 - val_loss: 0.0032\n",
      "Epoch 457/500\n",
      "296/296 [==============================] - 6s 21ms/step - loss: 0.0024 - val_loss: 0.0032\n",
      "Epoch 458/500\n",
      "296/296 [==============================] - 6s 21ms/step - loss: 0.0024 - val_loss: 0.0034\n",
      "Epoch 459/500\n",
      "296/296 [==============================] - 6s 20ms/step - loss: 0.0024 - val_loss: 0.0033\n",
      "Epoch 460/500\n",
      "296/296 [==============================] - 6s 20ms/step - loss: 0.0024 - val_loss: 0.0033\n",
      "Epoch 461/500\n",
      "296/296 [==============================] - 6s 20ms/step - loss: 0.0024 - val_loss: 0.0033\n",
      "Epoch 462/500\n",
      "296/296 [==============================] - 6s 21ms/step - loss: 0.0024 - val_loss: 0.0033\n",
      "Epoch 463/500\n",
      "296/296 [==============================] - 6s 20ms/step - loss: 0.0024 - val_loss: 0.0033\n",
      "Epoch 464/500\n",
      "296/296 [==============================] - 6s 20ms/step - loss: 0.0024 - val_loss: 0.0034\n",
      "Epoch 465/500\n",
      "296/296 [==============================] - 6s 19ms/step - loss: 0.0024 - val_loss: 0.0033\n",
      "Epoch 466/500\n",
      "296/296 [==============================] - 6s 21ms/step - loss: 0.0024 - val_loss: 0.0033\n",
      "Epoch 467/500\n",
      "296/296 [==============================] - 6s 21ms/step - loss: 0.0023 - val_loss: 0.0034\n",
      "Epoch 468/500\n",
      "296/296 [==============================] - 6s 20ms/step - loss: 0.0023 - val_loss: 0.0033\n",
      "Epoch 469/500\n",
      "296/296 [==============================] - 6s 20ms/step - loss: 0.0024 - val_loss: 0.0033\n",
      "Epoch 470/500\n",
      "296/296 [==============================] - 6s 21ms/step - loss: 0.0023 - val_loss: 0.0033\n",
      "Epoch 471/500\n",
      "296/296 [==============================] - 6s 20ms/step - loss: 0.0023 - val_loss: 0.0034\n",
      "Epoch 472/500\n",
      "296/296 [==============================] - 6s 20ms/step - loss: 0.0023 - val_loss: 0.0035\n",
      "Epoch 473/500\n",
      "296/296 [==============================] - 6s 21ms/step - loss: 0.0023 - val_loss: 0.0034\n",
      "Epoch 474/500\n",
      "296/296 [==============================] - 6s 20ms/step - loss: 0.0023 - val_loss: 0.0034\n",
      "Epoch 475/500\n",
      "296/296 [==============================] - 7s 22ms/step - loss: 0.0023 - val_loss: 0.0033\n",
      "Epoch 476/500\n",
      "296/296 [==============================] - 5s 18ms/step - loss: 0.0023 - val_loss: 0.0033\n",
      "Epoch 477/500\n",
      "296/296 [==============================] - 5s 17ms/step - loss: 0.0023 - val_loss: 0.0034\n",
      "Epoch 478/500\n",
      "296/296 [==============================] - 6s 19ms/step - loss: 0.0023 - val_loss: 0.0033\n",
      "Epoch 479/500\n",
      "296/296 [==============================] - 6s 20ms/step - loss: 0.0023 - val_loss: 0.0033\n",
      "Epoch 480/500\n",
      "296/296 [==============================] - 6s 20ms/step - loss: 0.0023 - val_loss: 0.0034\n",
      "Epoch 481/500\n",
      "296/296 [==============================] - 6s 20ms/step - loss: 0.0023 - val_loss: 0.0034\n",
      "Epoch 482/500\n",
      "296/296 [==============================] - 6s 20ms/step - loss: 0.0023 - val_loss: 0.0034\n",
      "Epoch 483/500\n",
      "296/296 [==============================] - 6s 19ms/step - loss: 0.0023 - val_loss: 0.0035\n",
      "Epoch 484/500\n",
      "296/296 [==============================] - 6s 21ms/step - loss: 0.0023 - val_loss: 0.0033\n",
      "Epoch 485/500\n",
      "296/296 [==============================] - 6s 21ms/step - loss: 0.0022 - val_loss: 0.0034\n",
      "Epoch 486/500\n",
      "296/296 [==============================] - 6s 19ms/step - loss: 0.0022 - val_loss: 0.0035\n",
      "Epoch 487/500\n",
      "296/296 [==============================] - 6s 21ms/step - loss: 0.0022 - val_loss: 0.0034\n",
      "Epoch 488/500\n",
      "296/296 [==============================] - 6s 21ms/step - loss: 0.0022 - val_loss: 0.0034\n",
      "Epoch 489/500\n",
      "296/296 [==============================] - 6s 20ms/step - loss: 0.0022 - val_loss: 0.0034\n",
      "Epoch 490/500\n",
      "296/296 [==============================] - 6s 20ms/step - loss: 0.0022 - val_loss: 0.0035\n",
      "Epoch 491/500\n",
      "296/296 [==============================] - 5s 17ms/step - loss: 0.0022 - val_loss: 0.0034\n",
      "Epoch 492/500\n",
      "296/296 [==============================] - 6s 21ms/step - loss: 0.0022 - val_loss: 0.0035\n",
      "Epoch 493/500\n",
      "296/296 [==============================] - 6s 20ms/step - loss: 0.0022 - val_loss: 0.0034\n",
      "Epoch 494/500\n",
      "296/296 [==============================] - 6s 19ms/step - loss: 0.0022 - val_loss: 0.0033\n",
      "Epoch 495/500\n",
      "296/296 [==============================] - 6s 19ms/step - loss: 0.0022 - val_loss: 0.0034\n",
      "Epoch 496/500\n",
      "296/296 [==============================] - 6s 20ms/step - loss: 0.0022 - val_loss: 0.0035\n",
      "Epoch 497/500\n",
      "296/296 [==============================] - 6s 19ms/step - loss: 0.0022 - val_loss: 0.0034\n",
      "Epoch 498/500\n",
      "296/296 [==============================] - 5s 18ms/step - loss: 0.0022 - val_loss: 0.0034\n",
      "Epoch 499/500\n",
      "296/296 [==============================] - 5s 18ms/step - loss: 0.0022 - val_loss: 0.0035\n",
      "Epoch 500/500\n",
      "296/296 [==============================] - 6s 20ms/step - loss: 0.0022 - val_loss: 0.0035\n"
     ]
    }
   ],
   "source": [
    "history = model.fit(X_train, y_train, validation_data=(X_val, y_val), epochs=500, callbacks=[cp], batch_size=128, verbose=1)"
   ]
  },
  {
   "cell_type": "code",
   "execution_count": 83,
   "id": "8061a459",
   "metadata": {},
   "outputs": [
    {
     "data": {
      "image/png": "[encoded data removed]",
      "text/plain": [
       "<Figure size 640x480 with 1 Axes>"
      ]
     },
     "metadata": {},
     "output_type": "display_data"
    }
   ],
   "source": [
    "\n",
    "# summarize history for loss\n",
    "plt.plot(history.history['loss'])\n",
    "plt.plot(history.history['val_loss'])\n",
    "plt.title('model loss')\n",
    "plt.ylabel('loss')\n",
    "plt.xlabel('epoch')\n",
    "plt.legend(['train', 'test'], loc='upper left')\n",
    "plt.show()"
   ]
  },
  {
   "cell_type": "code",
   "execution_count": 84,
   "id": "dcb53caf",
   "metadata": {},
   "outputs": [],
   "source": [
    "from tensorflow.keras.models import load_model\n",
    "m = load_model('model/')"
   ]
  },
  {
   "cell_type": "code",
   "execution_count": 85,
   "id": "d285b74b",
   "metadata": {},
   "outputs": [
    {
     "name": "stdout",
     "output_type": "stream",
     "text": [
      "148/148 [==============================] - 2s 7ms/step\n"
     ]
    }
   ],
   "source": [
    "pre = m.predict(X_test)"
   ]
  },
  {
   "cell_type": "code",
   "execution_count": 86,
   "id": "afe3df8e",
   "metadata": {},
   "outputs": [],
   "source": [
    "from tabnanny import verbose\n",
    "\n",
    "\n",
    "eva = m.evaluate(X_test, y_test, verbose=0)"
   ]
  },
  {
   "cell_type": "code",
   "execution_count": 87,
   "id": "5f038dd7",
   "metadata": {},
   "outputs": [
    {
     "data": {
      "text/plain": [
       "0.0032801730558276176"
      ]
     },
     "execution_count": 87,
     "metadata": {},
     "output_type": "execute_result"
    }
   ],
   "source": [
    "eva"
   ]
  },
  {
   "cell_type": "code",
   "execution_count": 88,
   "id": "c475eaeb",
   "metadata": {},
   "outputs": [
    {
     "data": {
      "text/plain": [
       "array([[2.0206662e-01, 2.5515633e+02, 1.1240966e+01, ..., 2.0206661e+00,\n",
       "        7.4764647e+00, 1.4710449e+03],\n",
       "       [1.8831573e-01, 2.5435564e+02, 1.0476005e+01, ..., 1.8831574e+00,\n",
       "        6.9676824e+00, 1.3709386e+03],\n",
       "       [1.9510584e-01, 2.5475101e+02, 1.0853738e+01, ..., 1.9510584e+00,\n",
       "        7.2189159e+00, 1.4203705e+03],\n",
       "       ...,\n",
       "       [3.4995404e-01, 2.6376782e+02, 1.9467943e+01, ..., 3.4995403e+00,\n",
       "        1.2948299e+01, 2.5476653e+03],\n",
       "       [2.8461128e-01, 2.5996292e+02, 1.5832926e+01, ..., 2.8461127e+00,\n",
       "        1.0530618e+01, 2.0719702e+03],\n",
       "       [1.5237959e-01, 2.5226306e+02, 8.4768763e+00, ..., 1.5237958e+00,\n",
       "        5.6380448e+00, 1.1093234e+03]], dtype=float32)"
      ]
     },
     "execution_count": 88,
     "metadata": {},
     "output_type": "execute_result"
    }
   ],
   "source": [
    "Y = np.repeat(pre, 8, axis=1)\n",
    "TT = sc.inverse_transform(Y)\n",
    "TT "
   ]
  },
  {
   "cell_type": "code",
   "execution_count": 89,
   "id": "fbafb640",
   "metadata": {},
   "outputs": [
    {
     "data": {
      "text/plain": [
       "array([[2.43543956e-01, 2.57571565e+02, 1.35483503e+01, ...,\n",
       "        2.43543956e+00, 9.01112637e+00, 1.77300000e+03],\n",
       "       [2.43543956e-01, 2.57571565e+02, 1.35483503e+01, ...,\n",
       "        2.43543956e+00, 9.01112637e+00, 1.77300000e+03],\n",
       "       [2.43543956e-01, 2.57571565e+02, 1.35483503e+01, ...,\n",
       "        2.43543956e+00, 9.01112637e+00, 1.77300000e+03],\n",
       "       ...,\n",
       "       [2.96565934e-01, 2.60659034e+02, 1.64979629e+01, ...,\n",
       "        2.96565934e+00, 1.09729396e+01, 2.15900000e+03],\n",
       "       [1.99175824e-01, 2.54988008e+02, 1.10801511e+01, ...,\n",
       "        1.99175824e+00, 7.36950549e+00, 1.45000000e+03],\n",
       "       [1.31043956e-01, 2.51020690e+02, 7.28997527e+00, ...,\n",
       "        1.31043956e+00, 4.84862637e+00, 9.54000000e+02]])"
      ]
     },
     "execution_count": 89,
     "metadata": {},
     "output_type": "execute_result"
    }
   ],
   "source": [
    "Y_test = np.repeat(y_test, 8)\n",
    "Y_test = Y_test.reshape(-1,8)\n",
    "Y_TT = sc.inverse_transform(Y_test)\n",
    "Y_TT"
   ]
  },
  {
   "cell_type": "code",
   "execution_count": 90,
   "id": "07495d8c",
   "metadata": {},
   "outputs": [
    {
     "data": {
      "image/png": "[encoded data removed]",
      "text/plain": [
       "<Figure size 640x480 with 1 Axes>"
      ]
     },
     "metadata": {},
     "output_type": "display_data"
    }
   ],
   "source": [
    "Y_pred = TT[:, 7]\n",
    "Y_test = Y_TT[:, 7]\n",
    "\n",
    "X =  [i for i in range(len(Y_TT))]\n",
    "plt.plot(X[200:500], Y_test[200:500])\n",
    "plt.plot(X[200:500], Y_pred[200:500])\n",
    "plt.legend(['Actual Value','Prediction'])\n",
    "plt.show()"
   ]
  },
  {
   "cell_type": "code",
   "execution_count": 91,
   "id": "ed5acff9",
   "metadata": {},
   "outputs": [
    {
     "data": {
      "image/png": "[encoded data removed]",
      "text/plain": [
       "<Figure size 640x480 with 1 Axes>"
      ]
     },
     "metadata": {},
     "output_type": "display_data"
    }
   ],
   "source": [
    "Y_pred = TT[:, 7]\n",
    "Y_test = Y_TT[:, 7]\n",
    "\n",
    "X =  [i for i in range(len(Y_TT))]\n",
    "plt.plot(X[200:250], Y_test[200:250])\n",
    "plt.plot(X[200:250], Y_pred[200:250])\n",
    "plt.legend(['Actual Value','Prediction'])\n",
    "plt.show()"
   ]
  },
  {
   "cell_type": "code",
   "execution_count": 92,
   "id": "2d0bba80",
   "metadata": {},
   "outputs": [
    {
     "data": {
      "image/png": "[encoded data removed]",
      "text/plain": [
       "<Figure size 640x480 with 1 Axes>"
      ]
     },
     "metadata": {},
     "output_type": "display_data"
    }
   ],
   "source": [
    "Y_pred = TT[:, 7]\n",
    "Y_test = Y_TT[:, 7]\n",
    "\n",
    "X =  [i for i in range(len(Y_TT))]\n",
    "plt.plot(X[200:230], Y_test[200:230])\n",
    "plt.plot(X[200:230], Y_pred[200:230])\n",
    "plt.legend(['Actual Value','Prediction'])\n",
    "plt.show()"
   ]
  },
  {
   "cell_type": "code",
   "execution_count": 93,
   "id": "ed7549aa",
   "metadata": {},
   "outputs": [
    {
     "data": {
      "image/png": "[encoded data removed]",
      "text/plain": [
       "<Figure size 640x480 with 1 Axes>"
      ]
     },
     "metadata": {},
     "output_type": "display_data"
    }
   ],
   "source": [
    "Y_pred = TT[:, 7]\n",
    "Y_test = Y_TT[:, 7]\n",
    "\n",
    "X =  [i for i in range(len(Y_TT))]\n",
    "plt.plot(X[0:100], Y_test[0:100])\n",
    "plt.plot(X[0:100], Y_pred[0:100])\n",
    "plt.legend(['Actual Value','Prediction'])\n",
    "plt.show()"
   ]
  },
  {
   "cell_type": "code",
   "execution_count": 95,
   "id": "91aab9c0",
   "metadata": {},
   "outputs": [
    {
     "data": {
      "image/png": "[encoded data removed]",
      "text/plain": [
       "<Figure size 640x480 with 1 Axes>"
      ]
     },
     "metadata": {},
     "output_type": "display_data"
    }
   ],
   "source": []
  },
  {
   "cell_type": "code",
   "execution_count": null,
   "id": "b78953b1",
   "metadata": {},
   "outputs": [],
   "source": []
  }
 ],
 "metadata": {
  "kernelspec": {
   "display_name": "Python 3 (ipykernel)",
   "language": "python",
   "name": "python3"
  },
  "language_info": {
   "codemirror_mode": {
    "name": "ipython",
    "version": 3
   },
   "file_extension": ".py",
   "mimetype": "text/x-python",
   "name": "python",
   "nbconvert_exporter": "python",
   "pygments_lexer": "ipython3",
   "version": "3.9.13"
  },
  "vscode": {
   "interpreter": {
    "hash": "07c1f2137dd51e6ea18902ffe6dbcb865927edde803f4e820255a1813683e660"
   }
  }
 },
 "nbformat": 4,
 "nbformat_minor": 5
}
